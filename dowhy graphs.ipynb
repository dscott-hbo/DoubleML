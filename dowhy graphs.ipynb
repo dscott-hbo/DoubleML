{
 "cells": [
  {
   "cell_type": "code",
   "execution_count": 2,
   "id": "386ad088",
   "metadata": {},
   "outputs": [
    {
     "name": "stdout",
     "output_type": "stream",
     "text": [
      "Collecting dowhy\n",
      "  Downloading dowhy-0.6-py3-none-any.whl (123 kB)\n",
      "     |████████████████████████████████| 123 kB 8.2 MB/s            \n",
      "\u001b[?25hRequirement already satisfied: networkx>=2.0 in /home/ec2-user/anaconda3/envs/python3/lib/python3.6/site-packages (from dowhy) (2.5)\n",
      "Collecting pydot>=1.4\n",
      "  Downloading pydot-1.4.2-py2.py3-none-any.whl (21 kB)\n",
      "Requirement already satisfied: sympy>=1.4 in /home/ec2-user/anaconda3/envs/python3/lib/python3.6/site-packages (from dowhy) (1.7.1)\n",
      "Requirement already satisfied: numpy>=1.15 in /home/ec2-user/anaconda3/envs/python3/lib/python3.6/site-packages (from dowhy) (1.19.5)\n",
      "Requirement already satisfied: scipy in /home/ec2-user/anaconda3/envs/python3/lib/python3.6/site-packages (from dowhy) (1.5.3)\n",
      "Requirement already satisfied: pandas>=0.24 in /home/ec2-user/anaconda3/envs/python3/lib/python3.6/site-packages (from dowhy) (1.1.5)\n",
      "Requirement already satisfied: statsmodels in /home/ec2-user/anaconda3/envs/python3/lib/python3.6/site-packages (from dowhy) (0.12.2)\n",
      "Requirement already satisfied: scikit-learn in /home/ec2-user/anaconda3/envs/python3/lib/python3.6/site-packages (from dowhy) (0.24.1)\n",
      "Requirement already satisfied: decorator>=4.3.0 in /home/ec2-user/anaconda3/envs/python3/lib/python3.6/site-packages (from networkx>=2.0->dowhy) (4.4.2)\n",
      "Requirement already satisfied: python-dateutil>=2.7.3 in /home/ec2-user/anaconda3/envs/python3/lib/python3.6/site-packages (from pandas>=0.24->dowhy) (2.8.1)\n",
      "Requirement already satisfied: pytz>=2017.2 in /home/ec2-user/anaconda3/envs/python3/lib/python3.6/site-packages (from pandas>=0.24->dowhy) (2021.1)\n",
      "Requirement already satisfied: pyparsing>=2.1.4 in /home/ec2-user/anaconda3/envs/python3/lib/python3.6/site-packages (from pydot>=1.4->dowhy) (2.4.7)\n",
      "Requirement already satisfied: mpmath>=0.19 in /home/ec2-user/anaconda3/envs/python3/lib/python3.6/site-packages (from sympy>=1.4->dowhy) (1.2.1)\n",
      "Requirement already satisfied: joblib>=0.11 in /home/ec2-user/anaconda3/envs/python3/lib/python3.6/site-packages (from scikit-learn->dowhy) (1.0.1)\n",
      "Requirement already satisfied: threadpoolctl>=2.0.0 in /home/ec2-user/anaconda3/envs/python3/lib/python3.6/site-packages (from scikit-learn->dowhy) (2.1.0)\n",
      "Requirement already satisfied: patsy>=0.5 in /home/ec2-user/anaconda3/envs/python3/lib/python3.6/site-packages (from statsmodels->dowhy) (0.5.1)\n",
      "Requirement already satisfied: six in /home/ec2-user/anaconda3/envs/python3/lib/python3.6/site-packages (from patsy>=0.5->statsmodels->dowhy) (1.15.0)\n",
      "Installing collected packages: pydot, dowhy\n",
      "Successfully installed dowhy-0.6 pydot-1.4.2\n",
      "Collecting doubleml\n",
      "  Downloading DoubleML-0.4.0-py3-none-any.whl (115 kB)\n",
      "     |████████████████████████████████| 115 kB 8.2 MB/s            \n",
      "\u001b[?25hRequirement already satisfied: pandas in /home/ec2-user/anaconda3/envs/python3/lib/python3.6/site-packages (from doubleml) (1.1.5)\n",
      "Requirement already satisfied: sklearn in /home/ec2-user/anaconda3/envs/python3/lib/python3.6/site-packages (from doubleml) (0.0)\n",
      "Requirement already satisfied: joblib in /home/ec2-user/anaconda3/envs/python3/lib/python3.6/site-packages (from doubleml) (1.0.1)\n",
      "Requirement already satisfied: statsmodels in /home/ec2-user/anaconda3/envs/python3/lib/python3.6/site-packages (from doubleml) (0.12.2)\n",
      "Requirement already satisfied: numpy in /home/ec2-user/anaconda3/envs/python3/lib/python3.6/site-packages (from doubleml) (1.19.5)\n",
      "Requirement already satisfied: scipy in /home/ec2-user/anaconda3/envs/python3/lib/python3.6/site-packages (from doubleml) (1.5.3)\n",
      "Requirement already satisfied: python-dateutil>=2.7.3 in /home/ec2-user/anaconda3/envs/python3/lib/python3.6/site-packages (from pandas->doubleml) (2.8.1)\n",
      "Requirement already satisfied: pytz>=2017.2 in /home/ec2-user/anaconda3/envs/python3/lib/python3.6/site-packages (from pandas->doubleml) (2021.1)\n",
      "Requirement already satisfied: scikit-learn in /home/ec2-user/anaconda3/envs/python3/lib/python3.6/site-packages (from sklearn->doubleml) (0.24.1)\n",
      "Requirement already satisfied: patsy>=0.5 in /home/ec2-user/anaconda3/envs/python3/lib/python3.6/site-packages (from statsmodels->doubleml) (0.5.1)\n",
      "Requirement already satisfied: six in /home/ec2-user/anaconda3/envs/python3/lib/python3.6/site-packages (from patsy>=0.5->statsmodels->doubleml) (1.15.0)\n",
      "Requirement already satisfied: threadpoolctl>=2.0.0 in /home/ec2-user/anaconda3/envs/python3/lib/python3.6/site-packages (from scikit-learn->sklearn->doubleml) (2.1.0)\n",
      "Installing collected packages: doubleml\n",
      "Successfully installed doubleml-0.4.0\n"
     ]
    }
   ],
   "source": [
    "!pip install dowhy\n",
    "!pip install doubleml"
   ]
  },
  {
   "cell_type": "code",
   "execution_count": 3,
   "id": "36109cd5",
   "metadata": {},
   "outputs": [],
   "source": [
    "import os, sys\n",
    "import random\n",
    "import numpy as np\n",
    "import pandas as pd\n",
    "from IPython.display import Image, display\n",
    "\n",
    "from dowhy import CausalModel\n",
    "\n",
    "from doubleml.datasets import make_plr_CCDDHNR2018\n",
    "import statsmodels.api as sm\n"
   ]
  },
  {
   "cell_type": "markdown",
   "id": "6239351e",
   "metadata": {},
   "source": [
    "## 1. linear dataset"
   ]
  },
  {
   "cell_type": "markdown",
   "id": "0ef9a110",
   "metadata": {},
   "source": [
    "* __What simulation__\n",
    "\n",
    "Using gaussian and bernoulli features to predict the causal inference on Y\n",
    "\n",
    "* __Simulation parameters__\n",
    "\n",
    "Simulations: 100\n",
    "Number of features: 100\n",
    "C = 0.5 #hardcoded inference\n",
    "\n",
    "Data generation:\n",
    "X = Random floats sampled from a univariate “normal” (Gaussian) distribution of mean 0 and variance 1.\n",
    "D = random binomial with prob:0.5\n",
    "Weight coefficients: Random floats sampled from a univariate “normal” (Gaussian) distribution of mean 0 and variance 1.\n",
    "Noise = 0\n",
    "Y = X.Weights + c*D\n",
    "\n",
    "RF parameters:\n",
    "n_estimators: 100\n",
    "max_depth=100\n",
    "\n",
    "DML parameters:\n",
    "Folds = 2\n",
    "\n",
    "* __Results__\n",
    "Here the DML nailed it! The simulations of this experiment found the DML really nailed on the expected causal effect (0.5 in these experiments) where the target was continous linear variable. After 250 runs, the average DML result was 0.5 vs the average OLS measurement of 0.57.\n",
    "\n",
    "Can be found inside the folder:\n",
    "https://github.com/dscott-hbo/DoubleML/blob/master/simulation/ThetaDistributionPlots/"
   ]
  },
  {
   "cell_type": "code",
   "execution_count": 4,
   "id": "4ce27efb",
   "metadata": {},
   "outputs": [],
   "source": [
    "#create data\n",
    "#use DML dataset\n",
    "#alpha being the causal parameter\n",
    "\n",
    "df = make_plr_CCDDHNR2018(n_obs=500000, dim_x=30, alpha=0.5,return_type='DataFrame')\n",
    "\n",
    "# Create a causal model from the data and given common causes.\n",
    "xs = \"\"\n",
    "for i in range(1,31):\n",
    "    xs += (\"x\"+str(i)+\"+\")"
   ]
  },
  {
   "cell_type": "code",
   "execution_count": 5,
   "id": "8bd54682",
   "metadata": {},
   "outputs": [
    {
     "data": {
      "image/png": "[encoded data removed]",
      "text/plain": [
       "<Figure size 432x288 with 1 Axes>"
      ]
     },
     "metadata": {},
     "output_type": "display_data"
    }
   ],
   "source": [
    "\n",
    "model=CausalModel(        data = df,\n",
    "        treatment='d',\n",
    "        outcome='y',\n",
    "        graph=\"\"\"graph[directed 1 node[id \"x1\" label \"x1\"]\n",
    "                    node[id \"x2\" label \"x2\"]\n",
    "                    node[id \"x3\" label \"x3\"]\n",
    "                    node[id \"x4\" label \"x4\"]\n",
    "                    node[id \"x...\" label \"x...\"]\n",
    "                    node[id \"x30\" label \"x30\"]\n",
    "                    node[id \"y\" label \"y\"]\n",
    "                    node[id \"d\" label \"d\"]\n",
    "                    \n",
    "                    edge[source \"x30\" target \"y\"]\n",
    "                    edge[source \"x...\" target \"y\"]\n",
    "                    edge[source \"x4\" target \"y\"]\n",
    "                    edge[source \"x3\" target \"y\"]\n",
    "                    edge[source \"x2\" target \"y\"]\n",
    "                    edge[source \"x1\" target \"y\"]\n",
    "                    edge[source \"d\" target \"y\"]]\"\"\"\n",
    "\n",
    "        )\n",
    "model.view_model()"
   ]
  },
  {
   "cell_type": "markdown",
   "id": "15915305",
   "metadata": {},
   "source": [
    "## 1 a ii Increments of features"
   ]
  },
  {
   "cell_type": "markdown",
   "id": "d76905b5",
   "metadata": {},
   "source": [
    "* __What simulation__\n",
    "\n",
    "In the following simulation, we explored increasing the number of features used, the number of samples used and changing the distribution of covariates between gaussian and bernoulli.\n",
    "\n",
    "* __Simulation parameters__\n",
    "\n",
    "We had 5 runs of each example.\n",
    "\n",
    "Simulations: 100\n",
    "Number of features: 10, 30, 60\n",
    "Samples: 1000,10000,500000,1000000\n",
    "C = 0.5 #hardcoded inference\n",
    "\n",
    "Data generation:\n",
    "\n",
    "* __Results__\n",
    "DML holds well in all simulations. In simulations with small sample size there is a large CI but these are in zones which we would not expect to be working in (1000,10000 samples), once we reach 500,000 samples, the CI really shrink down. When using bernoulli features the CI is smaller compared to gaussian. \n",
    "\n",
    "Can be found inside the folder:\n",
    "https://github.com/dscott-hbo/DoubleML/blob/master/simulation/Bernoulli/CIplots/CI_plots.pdf"
   ]
  },
  {
   "cell_type": "code",
   "execution_count": 6,
   "id": "cfb74324",
   "metadata": {},
   "outputs": [
    {
     "data": {
      "image/png": "[encoded data removed]",
      "text/plain": [
       "<Figure size 432x288 with 1 Axes>"
      ]
     },
     "metadata": {},
     "output_type": "display_data"
    }
   ],
   "source": [
    "model=CausalModel(\n",
    "        data = df,\n",
    "        treatment='d',\n",
    "        outcome='y',\n",
    "        graph=\"\"\"graph[directed 1 node[id \"x1\" label \"x1\"]\n",
    "                    node[id \"x2\" label \"x2\"]\n",
    "                    node[id \"x3\" label \"x3\"]\n",
    "                    node[id \"x4\" label \"x4\"]\n",
    "                    node[id \"x...\" label \"x...\"]\n",
    "                    node[id \"x10\" label \"x10\"]\n",
    "                    node[id \"y\" label \"y\"]\n",
    "                    node[id \"d\" label \"d\"]\n",
    "                    \n",
    "                    edge[source \"x10\" target \"y\"]\n",
    "                    edge[source \"x...\" target \"y\"]\n",
    "                    edge[source \"x4\" target \"y\"]\n",
    "                    edge[source \"x3\" target \"y\"]\n",
    "                    edge[source \"x2\" target \"y\"]\n",
    "                    edge[source \"x1\" target \"y\"]\n",
    "                    edge[source \"d\" target \"y\"]]\"\"\"\n",
    "\n",
    "        )\n",
    "model.view_model()"
   ]
  },
  {
   "cell_type": "code",
   "execution_count": 7,
   "id": "3a2c473c",
   "metadata": {},
   "outputs": [
    {
     "data": {
      "image/png": "[encoded data removed]",
      "text/plain": [
       "<Figure size 432x288 with 1 Axes>"
      ]
     },
     "metadata": {},
     "output_type": "display_data"
    }
   ],
   "source": [
    "model=CausalModel(\n",
    "        data = df,\n",
    "        treatment='d',\n",
    "        outcome='y',\n",
    "        graph=\"\"\"graph[directed 1 node[id \"x1\" label \"x1\"]\n",
    "                    node[id \"x2\" label \"x2\"]\n",
    "                    node[id \"x3\" label \"x3\"]\n",
    "                    node[id \"x4\" label \"x4\"]\n",
    "                    node[id \"x...\" label \"x...\"]\n",
    "                    node[id \"x20\" label \"x20\"]\n",
    "                    node[id \"y\" label \"y\"]\n",
    "                    node[id \"d\" label \"d\"]\n",
    "                    \n",
    "                    edge[source \"x20\" target \"y\"]\n",
    "                    edge[source \"x...\" target \"y\"]\n",
    "                    edge[source \"x4\" target \"y\"]\n",
    "                    edge[source \"x3\" target \"y\"]\n",
    "                    edge[source \"x2\" target \"y\"]\n",
    "                    edge[source \"x1\" target \"y\"]\n",
    "                    edge[source \"d\" target \"y\"]]\"\"\"\n",
    "\n",
    "        )\n",
    "model.view_model()"
   ]
  },
  {
   "cell_type": "code",
   "execution_count": 8,
   "id": "d35f28b1",
   "metadata": {},
   "outputs": [
    {
     "data": {
      "image/png": "[encoded data removed]",
      "text/plain": [
       "<Figure size 432x288 with 1 Axes>"
      ]
     },
     "metadata": {},
     "output_type": "display_data"
    }
   ],
   "source": [
    "model=CausalModel(\n",
    "        data = df,\n",
    "        treatment='d',\n",
    "        outcome='y',\n",
    "        graph=\"\"\"graph[directed 1 node[id \"x1\" label \"x1\"]\n",
    "                    node[id \"x2\" label \"x2\"]\n",
    "                    node[id \"x3\" label \"x3\"]\n",
    "                    node[id \"x4\" label \"x4\"]\n",
    "                    node[id \"x...\" label \"x...\"]\n",
    "                    node[id \"x30\" label \"x30\"]\n",
    "                    node[id \"y\" label \"y\"]\n",
    "                    node[id \"d\" label \"d\"]\n",
    "                    \n",
    "                    edge[source \"x30\" target \"y\"]\n",
    "                    edge[source \"x...\" target \"y\"]\n",
    "                    edge[source \"x4\" target \"y\"]\n",
    "                    edge[source \"x3\" target \"y\"]\n",
    "                    edge[source \"x2\" target \"y\"]\n",
    "                    edge[source \"x1\" target \"y\"]\n",
    "                    edge[source \"d\" target \"y\"]]\"\"\"\n",
    "\n",
    "        )\n",
    "model.view_model()"
   ]
  },
  {
   "cell_type": "markdown",
   "id": "1e465196",
   "metadata": {},
   "source": [
    "## 1 b) with colinear features"
   ]
  },
  {
   "cell_type": "markdown",
   "id": "0bbbc4ee",
   "metadata": {},
   "source": [
    "* __What simulation__\n",
    "\n",
    "In the following simulation, we explored using collinear features by duplicated either one or all of the variables in the dataset.\n",
    "\n",
    "* __Simulation parameters__\n",
    "\n",
    "We had 5 runs of each example.\n",
    "\n",
    "Feature Distribution: Gaussian, Bernoulli\n",
    "Simulations: 3\n",
    "Number of features: 10\n",
    "Samples: 1000000\n",
    "C = 0.5 #hardcoded inference\n",
    "\n",
    "* __Results__\n",
    "DML nailed this simulation showing that collinearity does not effect DML inference.\n",
    "\n",
    "Can be found inside the folder:\n",
    "https://github.com/dscott-hbo/DoubleML/blob/master/simulation/Bernoulli/CollinearityDML.ipynb"
   ]
  },
  {
   "cell_type": "code",
   "execution_count": 9,
   "id": "57238d33",
   "metadata": {},
   "outputs": [
    {
     "data": {
      "image/png": "[encoded data removed]",
      "text/plain": [
       "<Figure size 432x288 with 1 Axes>"
      ]
     },
     "metadata": {},
     "output_type": "display_data"
    }
   ],
   "source": [
    "model=CausalModel(\n",
    "        data = df,\n",
    "        treatment='d',\n",
    "        outcome='y',\n",
    "        graph=\"\"\"graph[directed 1 node[id \"x1\" label \"x1\"]\n",
    "                    node[id \"x31\" label \"x31\"]\n",
    "                    node[id \"x2\" label \"x2\"]\n",
    "                    node[id \"x32\" label \"x32\"]\n",
    "                    node[id \"x3\" label \"x3\"]\n",
    "                    node[id \"x33\" label \"x33\"]\n",
    "                    node[id \"x4\" label \"x4\"]\n",
    "                    node[id \"x34\" label \"x34\"]\n",
    "                    node[id \"x...\" label \"x...\"]\n",
    "                    node[id \"x30\" label \"x30\"]                    \n",
    "                    node[id \"x60\" label \"x60\"]\n",
    "                    \n",
    "                    node[id \"y\" label \"y\"]\n",
    "                    node[id \"d\" label \"d\"]\n",
    "                    \n",
    "                    edge[source \"x2\" target \"x32\"]\n",
    "                    edge[source \"x3\" target \"x33\"]\n",
    "                    edge[source \"x4\" target \"x34\"]\n",
    "                    edge[source \"x30\" target \"x60\"]\n",
    "                    \n",
    "                    \n",
    "                    \n",
    "                    edge[source \"x60\" target \"y\"]\n",
    "                    edge[source \"x34\" target \"y\"]\n",
    "                    edge[source \"x33\" target \"y\"]\n",
    "                    edge[source \"x32\" target \"y\"]\n",
    "                    edge[source \"x31\" target \"y\"]\n",
    "                    edge[source \"x30\" target \"y\"]\n",
    "                    edge[source \"x...\" target \"y\"]\n",
    "                    edge[source \"x4\" target \"y\"]\n",
    "                    edge[source \"x3\" target \"y\"]\n",
    "                    edge[source \"x2\" target \"y\"]\n",
    "                    edge[source \"x1\" target \"y\"]\n",
    "                    edge[source \"x1\" target \"x31\"]\n",
    "                    edge[source \"d\" target \"y\"]]\"\"\"\n",
    "\n",
    "        )\n",
    "model.view_model()"
   ]
  },
  {
   "cell_type": "markdown",
   "id": "5db1c179",
   "metadata": {},
   "source": [
    "## 1 c) Predicting binary Y target"
   ]
  },
  {
   "cell_type": "markdown",
   "id": "7136dc44",
   "metadata": {},
   "source": [
    "__What simulation__\n",
    "\n",
    "In the following simulation, we explored using DML to predict a categoric Y, either 0 or 1 using bernoulli or gaussian features\n",
    "\n",
    "__Simulation parameters__\n",
    "\n",
    "We had 3 runs of each different distribution using 1000000 samples and 10 features\n",
    "C = 0.5 #hardcoded inference\n",
    "\n",
    "__Results__\n",
    "\n",
    "The DML does not perform well at all. There is a lack of any evidence of DML being used to predict categorical target variables. TODO Try out with Cox-Box transformations\n",
    "\n",
    "Can be found inside the folder: https://github.com/dscott-hbo/DoubleML/blob/master/simulation/Bernoulli/BernoulliY.ipynb"
   ]
  },
  {
   "cell_type": "markdown",
   "id": "c2cac2f9",
   "metadata": {},
   "source": [
    "### TODO upto now\n",
    "\n",
    "- Try various different distributions.\n",
    "- Try using Cox-Box transformation of Y in categorical prediction\n",
    "- Investigate the predicting categorical target with DML."
   ]
  },
  {
   "cell_type": "markdown",
   "id": "5502c14d",
   "metadata": {},
   "source": [
    "## 2. Underlying simulated features are only positive? (Exponential, Gamma, Chi-Sq)"
   ]
  },
  {
   "cell_type": "markdown",
   "id": "3233f1b8",
   "metadata": {},
   "source": [
    "## 3. Heavy tailed distribution (t, weibull, pareto)"
   ]
  },
  {
   "cell_type": "markdown",
   "id": "2a095717",
   "metadata": {},
   "source": [
    "## 4. What happens when we have vastly different scales in the features?"
   ]
  },
  {
   "cell_type": "markdown",
   "id": "d8fafe66",
   "metadata": {},
   "source": [
    "4.i  models where the treatment is the massively larger variable and all others are small"
   ]
  },
  {
   "cell_type": "markdown",
   "id": "def46b8a",
   "metadata": {},
   "source": [
    "4.ii models where the treatment is small and one/two other features are larger."
   ]
  },
  {
   "cell_type": "markdown",
   "id": "c89dd052",
   "metadata": {},
   "source": [
    "## 5. Change of structure of output equation"
   ]
  },
  {
   "cell_type": "markdown",
   "id": "1ec7c6cb",
   "metadata": {},
   "source": [
    "#### 5.a Output ~ Treatment, Output ~ Treatment + X1, ...., "
   ]
  },
  {
   "cell_type": "markdown",
   "id": "2275c103",
   "metadata": {},
   "source": [
    "#### 5.a ii change the independent feature distributions"
   ]
  },
  {
   "cell_type": "markdown",
   "id": "2bf10c36",
   "metadata": {},
   "source": [
    "#### 5.a iii change the scales"
   ]
  },
  {
   "cell_type": "markdown",
   "id": "22c472ef",
   "metadata": {},
   "source": [
    "#### 5.a X1 and X2 highly correlated"
   ]
  },
  {
   "cell_type": "markdown",
   "id": "11a82161",
   "metadata": {},
   "source": [
    "## 6 graph more complex (more features, more relations, more depth)"
   ]
  },
  {
   "cell_type": "markdown",
   "id": "344f510e",
   "metadata": {},
   "source": [
    "## 7. What happens when Y is now a function of a function (i.e. a logistic function on some linear function of inputs)?  Can we estimate the change in log-odds?"
   ]
  },
  {
   "cell_type": "code",
   "execution_count": null,
   "id": "f855b555",
   "metadata": {},
   "outputs": [],
   "source": []
  }
 ],
 "metadata": {
  "kernelspec": {
   "display_name": "conda_python3",
   "language": "python",
   "name": "conda_python3"
  },
  "language_info": {
   "codemirror_mode": {
    "name": "ipython",
    "version": 3
   },
   "file_extension": ".py",
   "mimetype": "text/x-python",
   "name": "python",
   "nbconvert_exporter": "python",
   "pygments_lexer": "ipython3",
   "version": "3.6.13"
  }
 },
 "nbformat": 4,
 "nbformat_minor": 5
}
