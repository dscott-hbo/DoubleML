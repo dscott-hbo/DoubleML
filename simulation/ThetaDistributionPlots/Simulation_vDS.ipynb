{
 "cells": [
  {
   "cell_type": "code",
   "execution_count": 78,
   "id": "f658fdfc",
   "metadata": {},
   "outputs": [],
   "source": [
    "import numpy as np\n",
    "from sklearn.datasets import make_spd_matrix\n",
    "import math\n",
    "import statsmodels.api as sm\n",
    "from sklearn.ensemble import RandomForestClassifier, RandomForestRegressor\n",
    "from sklearn.linear_model import LassoCV\n",
    "import seaborn as sns\n",
    "import matplotlib.pyplot as plt\n",
    "from sklearn.model_selection import KFold\n",
    "from doubleml import DoubleMLData\n",
    "from doubleml import DoubleMLPLR\n",
    "from sklearn.preprocessing import StandardScaler\n",
    "from sklearn.pipeline import make_pipeline\n"
   ]
  },
  {
   "cell_type": "code",
   "execution_count": 2,
   "id": "c7250c87",
   "metadata": {},
   "outputs": [],
   "source": [
    "seed = 123\n",
    "np.random.seed(seed)\n",
    "\n",
    "N = 500 # No. obs \n",
    "\n",
    "k=100 # = No. variables in x_i \n",
    "\n",
    "theta=0.5 #real causal value\n",
    "\n",
    "# Generate some fake weights for X used in generation of g and m functions\n",
    "b= [1/k for k in range(1,((k+1)))]\n",
    "\n",
    "#generate covariance matrix to be used in data generation\n",
    "sigma = make_spd_matrix(k,random_state=seed) # \n",
    "\n",
    "MC_no = 250 # Number of simulations \n",
    "\n",
    "#generate predefined G as sine squared func\n",
    "def g(x):\n",
    "    return np.power(np.sin(x),2)\n",
    "\n",
    "#generate predefined m as wrapped cauchy distribution with\n",
    "# (nu)v=0 and gamma = 1#\n",
    "def m(x,nu=0.,gamma=1.):\n",
    "    return 0.5/math.pi*(np.sinh(gamma))/(np.cosh(gamma)-np.cos(x-nu))"
   ]
  },
  {
   "cell_type": "code",
   "execution_count": null,
   "id": "654723db",
   "metadata": {},
   "outputs": [],
   "source": [
    "# Create empty array to store estimated thetas     \n",
    "theta_est = np.zeros(shape=[MC_no,4])"
   ]
  },
  {
   "cell_type": "code",
   "execution_count": 3,
   "id": "fd02c50b",
   "metadata": {},
   "outputs": [],
   "source": [
    "\n",
    "#for each simulation\n",
    "for i in range(MC_no):\n",
    "    \n",
    "    # Generate data: \n",
    "    #no. obs x no. variables in x_i     \n",
    "    X = np.random.multivariate_normal(np.ones(k),sigma,size=[N,])\n",
    "    \n",
    "    #generate function g of data X * bias\n",
    "    G_of_X = g(np.dot(X,b)) \n",
    "\n",
    "    #generate function m of data X * bias\n",
    "    M_of_X = m(np.dot(X,b)) \n",
    "    \n",
    "    error_d = np.random.standard_normal(size=[N,]) \n",
    "    #generate D treatment\n",
    "    D = M_of_X+error_d\n",
    "    \n",
    "    error_y = np.random.standard_normal(size=[N,])\n",
    "    \n",
    "    #generate Y\n",
    "    Y = np.dot(theta,D)+ G_of_X + error_y \n",
    "    \n",
    "    #\n",
    "    # Now run the different methods     # \n",
    "    ######################################################################    \n",
    "    # OLS --------------------------------------------------     \n",
    "    ######################################################################\n",
    "    OLS = sm.OLS(Y,D)\n",
    "    results = OLS.fit()\n",
    "    #save OLS estimate into theta_estimate array\n",
    "    theta_est[i][0] = results.params[0]\n",
    "    \n",
    " \n",
    "    ######################################################################\n",
    "    # DML package                      -----------------------------------     \n",
    "    ######################################################################\n",
    "    # DML DML1 algo                    -----------------------------------     \n",
    "    ######################################################################\n",
    "    dml_data = DoubleMLData.from_arrays(X, Y, D)\n",
    "\n",
    "    ml_g_rf = RandomForestRegressor(max_depth=2)\n",
    "    ml_m_rf = RandomForestRegressor(max_depth=2)\n",
    "    \n",
    "    dml_plr_tree = DoubleMLPLR(dml_data,\n",
    "                             ml_g = ml_g_rf,\n",
    "                             ml_m = ml_m_rf,\n",
    "                             n_folds = 2,\n",
    "                             n_rep = 1,\n",
    "                             score = 'partialling out',\n",
    "                             dml_procedure = 'dml1')\n",
    "    #estimation\n",
    "    dml_plr_tree.fit()\n",
    "    \n",
    "    #coefficient estimate\n",
    "    theta_est[i][1] = dml_plr_tree.coef\n",
    "    \n",
    "    \n",
    "    ######################################################################\n",
    "    # Naive double machine Learning \n",
    "    # With orthogonal (for regularisation)\n",
    "    # No Cross fitting (for bias)\n",
    "    ######################################################################\n",
    "    \n",
    "    naiveDMLg =RandomForestRegressor(max_depth=4)\n",
    "\n",
    "    # Compute ghat     \n",
    "    naiveDMLg.fit(X,Y)\n",
    "    Ghat = naiveDMLg.predict(X)\n",
    "    \n",
    "    # Compute ghat     \n",
    "    naiveDMLm =RandomForestRegressor(max_depth=4)\n",
    "    naiveDMLm.fit(X,D)\n",
    "    Mhat = naiveDMLm.predict(X)\n",
    "    \n",
    "    # vhat as residual, orthogonalized regressors     \n",
    "    Vhat = D-Mhat\n",
    "    \n",
    "    #save Naive ML estimate into theta_estimate array\n",
    "    theta_est[i][2] = np.mean(np.dot(Vhat,Y-Ghat))/np.mean(np.dot(Vhat,D))\n",
    "\n",
    "\n",
    "    ######################################################################\n",
    "    # Cross-fitting DML -----------------------------------     \n",
    "    ######################################################################\n",
    "    # Split the sample   \n",
    "    kf = KFold(n_splits = 2)\n",
    "    kf.get_n_splits(X)\n",
    "    \n",
    "    for train_index, test_index in kf.split(X):\n",
    "        #print(\"TRAIN:\", train_index, \"TEST:\", test_index)\n",
    "        X_train, X_test = X[train_index], X[test_index]\n",
    "        y_train, y_test = Y[train_index], Y[test_index]\n",
    "        D_train, D_test = D[train_index], D[test_index]\n",
    "    \n",
    "    # Ghat for both     \n",
    "    Ghat_1 = RandomForestRegressor(max_depth=2).fit(X_train,y_train).predict(X_test)\n",
    "    Ghat_2 = RandomForestRegressor(max_depth=2).fit(X_test,y_test).predict(X_train)\n",
    "    # Mhat and vhat for both     \n",
    "    Mhat_1 = RandomForestRegressor(max_depth=2).fit(X_train,D_train).predict(X_test)\n",
    "    Mhat_2 = RandomForestRegressor(max_depth=2).fit(X_test,D_test).predict(X_train)    \n",
    "    \n",
    "    #orthogonalized regressors\n",
    "    Vhat_1 = D_test -  Mhat_1\n",
    "    Vhat_2 = D_train - Mhat_2\n",
    "    \n",
    "    theta_1 = np.mean(np.dot(Vhat_1,(y_test-Ghat_1)))/np.mean(np.dot(Vhat_1,D_test))\n",
    "    theta_2 = np.mean(np.dot(Vhat_2,(y_train-Ghat_2)))/np.mean(np.dot(Vhat_2,D_train))\n",
    "    \n",
    "    #get avg of each theta estimate and store\n",
    "    theta_est[i][3] = np.mean([[theta_1, theta_2]])"
   ]
  },
  {
   "cell_type": "code",
   "execution_count": 4,
   "id": "67b1c9c3",
   "metadata": {},
   "outputs": [
    {
     "data": {
      "text/plain": [
       "<matplotlib.lines.Line2D at 0x7fb026aff070>"
      ]
     },
     "execution_count": 4,
     "metadata": {},
     "output_type": "execute_result"
    },
    {
     "data": {
      "image/png": "[encoded data removed]",
      "text/plain": [
       "<Figure size 402.375x360 with 1 Axes>"
      ]
     },
     "metadata": {
      "needs_background": "light"
     },
     "output_type": "display_data"
    }
   ],
   "source": [
    "#generate density plot\n",
    "g = sns.displot(theta_est, kind=\"kde\", legend=True).set(title='distribution of estimating theta with {} runs'.format(MC_no))\n",
    "# title\n",
    "new_title = 'Method'\n",
    "g._legend.set_title(new_title)\n",
    "# replace labels\n",
    "new_labels = ['OLS','DML package' ,'Naive DML','Cross fit DML']\n",
    "for t, l in zip(g._legend.texts, new_labels): t.set_text(l)\n",
    "ols_mean = theta_est[:,0].mean()\n",
    "plt.axvline(ols_mean, c = 'navy', ls = '--', alpha = 0.3)\n",
    "naive_mean = theta_est[:,1].mean()\n",
    "plt.axvline(naive_mean, c='orange',ls = '--', alpha = 0.7)\n",
    "crossfit_dml_mean = theta_est[:,2].mean()\n",
    "plt.axvline(crossfit_dml_mean, c = 'green',ls = '--', alpha = 0.3)\n",
    "plt.axvline(theta, c = 'red',ls = '-', alpha = 0.8)"
   ]
  },
  {
   "cell_type": "code",
   "execution_count": null,
   "id": "d8579f3b",
   "metadata": {},
   "outputs": [],
   "source": []
  },
  {
   "cell_type": "code",
   "execution_count": null,
   "id": "267886a8",
   "metadata": {},
   "outputs": [],
   "source": [
    "hjyuy"
   ]
  },
  {
   "cell_type": "code",
   "execution_count": 128,
   "id": "914c819e",
   "metadata": {},
   "outputs": [],
   "source": [
    "from doubleml.datasets import fetch_401K"
   ]
  },
  {
   "cell_type": "code",
   "execution_count": 129,
   "id": "765398cf",
   "metadata": {},
   "outputs": [
    {
     "data": {
      "text/html": [
       "<div>\n",
       "<style scoped>\n",
       "    .dataframe tbody tr th:only-of-type {\n",
       "        vertical-align: middle;\n",
       "    }\n",
       "\n",
       "    .dataframe tbody tr th {\n",
       "        vertical-align: top;\n",
       "    }\n",
       "\n",
       "    .dataframe thead th {\n",
       "        text-align: right;\n",
       "    }\n",
       "</style>\n",
       "<table border=\"1\" class=\"dataframe\">\n",
       "  <thead>\n",
       "    <tr style=\"text-align: right;\">\n",
       "      <th></th>\n",
       "      <th>nifa</th>\n",
       "      <th>net_tfa</th>\n",
       "      <th>tw</th>\n",
       "      <th>age</th>\n",
       "      <th>inc</th>\n",
       "      <th>fsize</th>\n",
       "      <th>educ</th>\n",
       "      <th>db</th>\n",
       "      <th>marr</th>\n",
       "      <th>twoearn</th>\n",
       "      <th>e401</th>\n",
       "      <th>p401</th>\n",
       "      <th>pira</th>\n",
       "      <th>hown</th>\n",
       "    </tr>\n",
       "  </thead>\n",
       "  <tbody>\n",
       "    <tr>\n",
       "      <th>0</th>\n",
       "      <td>0.0</td>\n",
       "      <td>0.0</td>\n",
       "      <td>4500.0</td>\n",
       "      <td>47</td>\n",
       "      <td>6765.0</td>\n",
       "      <td>2</td>\n",
       "      <td>8</td>\n",
       "      <td>0</td>\n",
       "      <td>0</td>\n",
       "      <td>0</td>\n",
       "      <td>0</td>\n",
       "      <td>0</td>\n",
       "      <td>0</td>\n",
       "      <td>1</td>\n",
       "    </tr>\n",
       "    <tr>\n",
       "      <th>1</th>\n",
       "      <td>6215.0</td>\n",
       "      <td>1015.0</td>\n",
       "      <td>22390.0</td>\n",
       "      <td>36</td>\n",
       "      <td>28452.0</td>\n",
       "      <td>1</td>\n",
       "      <td>16</td>\n",
       "      <td>0</td>\n",
       "      <td>0</td>\n",
       "      <td>0</td>\n",
       "      <td>0</td>\n",
       "      <td>0</td>\n",
       "      <td>0</td>\n",
       "      <td>1</td>\n",
       "    </tr>\n",
       "    <tr>\n",
       "      <th>2</th>\n",
       "      <td>0.0</td>\n",
       "      <td>-2000.0</td>\n",
       "      <td>-2000.0</td>\n",
       "      <td>37</td>\n",
       "      <td>3300.0</td>\n",
       "      <td>6</td>\n",
       "      <td>12</td>\n",
       "      <td>1</td>\n",
       "      <td>0</td>\n",
       "      <td>0</td>\n",
       "      <td>0</td>\n",
       "      <td>0</td>\n",
       "      <td>0</td>\n",
       "      <td>0</td>\n",
       "    </tr>\n",
       "    <tr>\n",
       "      <th>3</th>\n",
       "      <td>15000.0</td>\n",
       "      <td>15000.0</td>\n",
       "      <td>155000.0</td>\n",
       "      <td>58</td>\n",
       "      <td>52590.0</td>\n",
       "      <td>2</td>\n",
       "      <td>16</td>\n",
       "      <td>0</td>\n",
       "      <td>1</td>\n",
       "      <td>1</td>\n",
       "      <td>0</td>\n",
       "      <td>0</td>\n",
       "      <td>0</td>\n",
       "      <td>1</td>\n",
       "    </tr>\n",
       "    <tr>\n",
       "      <th>4</th>\n",
       "      <td>0.0</td>\n",
       "      <td>0.0</td>\n",
       "      <td>58000.0</td>\n",
       "      <td>32</td>\n",
       "      <td>21804.0</td>\n",
       "      <td>1</td>\n",
       "      <td>11</td>\n",
       "      <td>0</td>\n",
       "      <td>0</td>\n",
       "      <td>0</td>\n",
       "      <td>0</td>\n",
       "      <td>0</td>\n",
       "      <td>0</td>\n",
       "      <td>1</td>\n",
       "    </tr>\n",
       "    <tr>\n",
       "      <th>...</th>\n",
       "      <td>...</td>\n",
       "      <td>...</td>\n",
       "      <td>...</td>\n",
       "      <td>...</td>\n",
       "      <td>...</td>\n",
       "      <td>...</td>\n",
       "      <td>...</td>\n",
       "      <td>...</td>\n",
       "      <td>...</td>\n",
       "      <td>...</td>\n",
       "      <td>...</td>\n",
       "      <td>...</td>\n",
       "      <td>...</td>\n",
       "      <td>...</td>\n",
       "    </tr>\n",
       "    <tr>\n",
       "      <th>9910</th>\n",
       "      <td>98498.0</td>\n",
       "      <td>98858.0</td>\n",
       "      <td>157858.0</td>\n",
       "      <td>52</td>\n",
       "      <td>73920.0</td>\n",
       "      <td>1</td>\n",
       "      <td>16</td>\n",
       "      <td>1</td>\n",
       "      <td>0</td>\n",
       "      <td>0</td>\n",
       "      <td>1</td>\n",
       "      <td>1</td>\n",
       "      <td>0</td>\n",
       "      <td>1</td>\n",
       "    </tr>\n",
       "    <tr>\n",
       "      <th>9911</th>\n",
       "      <td>287.0</td>\n",
       "      <td>6230.0</td>\n",
       "      <td>15730.0</td>\n",
       "      <td>41</td>\n",
       "      <td>42927.0</td>\n",
       "      <td>4</td>\n",
       "      <td>14</td>\n",
       "      <td>0</td>\n",
       "      <td>1</td>\n",
       "      <td>1</td>\n",
       "      <td>1</td>\n",
       "      <td>1</td>\n",
       "      <td>1</td>\n",
       "      <td>1</td>\n",
       "    </tr>\n",
       "    <tr>\n",
       "      <th>9912</th>\n",
       "      <td>99.0</td>\n",
       "      <td>6099.0</td>\n",
       "      <td>7406.0</td>\n",
       "      <td>40</td>\n",
       "      <td>23619.0</td>\n",
       "      <td>2</td>\n",
       "      <td>16</td>\n",
       "      <td>1</td>\n",
       "      <td>0</td>\n",
       "      <td>0</td>\n",
       "      <td>1</td>\n",
       "      <td>0</td>\n",
       "      <td>1</td>\n",
       "      <td>0</td>\n",
       "    </tr>\n",
       "    <tr>\n",
       "      <th>9913</th>\n",
       "      <td>0.0</td>\n",
       "      <td>-32.0</td>\n",
       "      <td>2468.0</td>\n",
       "      <td>47</td>\n",
       "      <td>14280.0</td>\n",
       "      <td>4</td>\n",
       "      <td>6</td>\n",
       "      <td>1</td>\n",
       "      <td>0</td>\n",
       "      <td>0</td>\n",
       "      <td>1</td>\n",
       "      <td>1</td>\n",
       "      <td>0</td>\n",
       "      <td>0</td>\n",
       "    </tr>\n",
       "    <tr>\n",
       "      <th>9914</th>\n",
       "      <td>4000.0</td>\n",
       "      <td>5000.0</td>\n",
       "      <td>8857.0</td>\n",
       "      <td>33</td>\n",
       "      <td>11112.0</td>\n",
       "      <td>1</td>\n",
       "      <td>14</td>\n",
       "      <td>0</td>\n",
       "      <td>0</td>\n",
       "      <td>0</td>\n",
       "      <td>1</td>\n",
       "      <td>1</td>\n",
       "      <td>0</td>\n",
       "      <td>0</td>\n",
       "    </tr>\n",
       "  </tbody>\n",
       "</table>\n",
       "<p>9915 rows × 14 columns</p>\n",
       "</div>"
      ],
      "text/plain": [
       "         nifa  net_tfa        tw  age      inc  fsize  educ  db  marr  \\\n",
       "0         0.0      0.0    4500.0   47   6765.0      2     8   0     0   \n",
       "1      6215.0   1015.0   22390.0   36  28452.0      1    16   0     0   \n",
       "2         0.0  -2000.0   -2000.0   37   3300.0      6    12   1     0   \n",
       "3     15000.0  15000.0  155000.0   58  52590.0      2    16   0     1   \n",
       "4         0.0      0.0   58000.0   32  21804.0      1    11   0     0   \n",
       "...       ...      ...       ...  ...      ...    ...   ...  ..   ...   \n",
       "9910  98498.0  98858.0  157858.0   52  73920.0      1    16   1     0   \n",
       "9911    287.0   6230.0   15730.0   41  42927.0      4    14   0     1   \n",
       "9912     99.0   6099.0    7406.0   40  23619.0      2    16   1     0   \n",
       "9913      0.0    -32.0    2468.0   47  14280.0      4     6   1     0   \n",
       "9914   4000.0   5000.0    8857.0   33  11112.0      1    14   0     0   \n",
       "\n",
       "      twoearn  e401  p401  pira  hown  \n",
       "0           0     0     0     0     1  \n",
       "1           0     0     0     0     1  \n",
       "2           0     0     0     0     0  \n",
       "3           1     0     0     0     1  \n",
       "4           0     0     0     0     1  \n",
       "...       ...   ...   ...   ...   ...  \n",
       "9910        0     1     1     0     1  \n",
       "9911        1     1     1     1     1  \n",
       "9912        0     1     0     1     0  \n",
       "9913        0     1     1     0     0  \n",
       "9914        0     1     1     0     0  \n",
       "\n",
       "[9915 rows x 14 columns]"
      ]
     },
     "execution_count": 129,
     "metadata": {},
     "output_type": "execute_result"
    }
   ],
   "source": [
    "#fetch data\n",
    "\n",
    "data = fetch_401K(return_type='DataFrame')\n",
    "data"
   ]
  },
  {
   "cell_type": "code",
   "execution_count": 130,
   "id": "8b3281b9",
   "metadata": {},
   "outputs": [
    {
     "data": {
      "text/html": [
       "<div>\n",
       "<style scoped>\n",
       "    .dataframe tbody tr th:only-of-type {\n",
       "        vertical-align: middle;\n",
       "    }\n",
       "\n",
       "    .dataframe tbody tr th {\n",
       "        vertical-align: top;\n",
       "    }\n",
       "\n",
       "    .dataframe thead th {\n",
       "        text-align: right;\n",
       "    }\n",
       "</style>\n",
       "<table border=\"1\" class=\"dataframe\">\n",
       "  <thead>\n",
       "    <tr style=\"text-align: right;\">\n",
       "      <th></th>\n",
       "      <th>net_tfa</th>\n",
       "    </tr>\n",
       "    <tr>\n",
       "      <th>e401</th>\n",
       "      <th></th>\n",
       "    </tr>\n",
       "  </thead>\n",
       "  <tbody>\n",
       "    <tr>\n",
       "      <th>0</th>\n",
       "      <td>NaN</td>\n",
       "    </tr>\n",
       "    <tr>\n",
       "      <th>1</th>\n",
       "      <td>19559.34375</td>\n",
       "    </tr>\n",
       "  </tbody>\n",
       "</table>\n",
       "</div>"
      ],
      "text/plain": [
       "          net_tfa\n",
       "e401             \n",
       "0             NaN\n",
       "1     19559.34375"
      ]
     },
     "execution_count": 130,
     "metadata": {},
     "output_type": "execute_result"
    }
   ],
   "source": [
    "#unconditional Average Predictive Effect of 401k eligibility on accumulated assets\n",
    "data[['e401', 'net_tfa']].groupby('e401').mean().diff()"
   ]
  },
  {
   "cell_type": "code",
   "execution_count": 131,
   "id": "eff1b82b",
   "metadata": {},
   "outputs": [
    {
     "data": {
      "text/html": [
       "<div>\n",
       "<style scoped>\n",
       "    .dataframe tbody tr th:only-of-type {\n",
       "        vertical-align: middle;\n",
       "    }\n",
       "\n",
       "    .dataframe tbody tr th {\n",
       "        vertical-align: top;\n",
       "    }\n",
       "\n",
       "    .dataframe thead th {\n",
       "        text-align: right;\n",
       "    }\n",
       "</style>\n",
       "<table border=\"1\" class=\"dataframe\">\n",
       "  <thead>\n",
       "    <tr style=\"text-align: right;\">\n",
       "      <th></th>\n",
       "      <th>net_tfa</th>\n",
       "    </tr>\n",
       "    <tr>\n",
       "      <th>p401</th>\n",
       "      <th></th>\n",
       "    </tr>\n",
       "  </thead>\n",
       "  <tbody>\n",
       "    <tr>\n",
       "      <th>0</th>\n",
       "      <td>NaN</td>\n",
       "    </tr>\n",
       "    <tr>\n",
       "      <th>1</th>\n",
       "      <td>27371.582031</td>\n",
       "    </tr>\n",
       "  </tbody>\n",
       "</table>\n",
       "</div>"
      ],
      "text/plain": [
       "           net_tfa\n",
       "p401              \n",
       "0              NaN\n",
       "1     27371.582031"
      ]
     },
     "execution_count": 131,
     "metadata": {},
     "output_type": "execute_result"
    }
   ],
   "source": [
    "#how many are eligible and how many participated\n",
    "data[['p401', 'net_tfa']].groupby('p401').mean().diff()"
   ]
  },
  {
   "cell_type": "code",
   "execution_count": 132,
   "id": "df457e58",
   "metadata": {},
   "outputs": [],
   "source": [
    "from sklearn.preprocessing import PolynomialFeatures\n",
    "import pandas as pd\n",
    "\n",
    "# Set up a model according to regression formula with polynomials\n",
    "features = data.copy()[['marr', 'twoearn', 'db', 'pira', 'hown']]\n",
    "\n",
    "poly_dict = {'age': 2,\n",
    "             'inc': 2,\n",
    "             'educ': 2,\n",
    "             'fsize': 2}\n",
    "for key, degree in poly_dict.items():\n",
    "    poly = PolynomialFeatures(degree, include_bias=False)\n",
    "    data_transf = poly.fit_transform(data[[key]])\n",
    "    x_cols = poly.get_feature_names_out([key])\n",
    "    data_transf = pd.DataFrame(data_transf, columns=x_cols)\n",
    "\n",
    "    features = pd.concat((features, data_transf),\n",
    "                          axis=1, sort=False)\n",
    "\n",
    "model_data = pd.concat((data.copy()[['net_tfa', 'e401']], features.copy()),\n",
    "                        axis=1, sort=False)\n",
    "\n",
    "# Initialize DoubleMLData (data-backend of DoubleML)\n",
    "data_dml_flex = DoubleMLData(model_data, y_col='net_tfa', d_cols='e401')"
   ]
  },
  {
   "cell_type": "code",
   "execution_count": 133,
   "id": "16f2130f",
   "metadata": {},
   "outputs": [],
   "source": [
    "X = model_data[['age', 'inc', 'educ', 'fsize', 'marr',\n",
    "                 'twoearn', 'db', 'pira', 'hown']].to_numpy()\n",
    "\n",
    "D = model_data[['e401']].to_numpy()\n",
    "\n",
    "Y = model_data[['net_tfa']].to_numpy()"
   ]
  },
  {
   "cell_type": "code",
   "execution_count": 134,
   "id": "82b699d3",
   "metadata": {},
   "outputs": [
    {
     "data": {
      "text/plain": [
       "((9915, 1), (9915, 9))"
      ]
     },
     "execution_count": 134,
     "metadata": {},
     "output_type": "execute_result"
    }
   ],
   "source": [
    "Y.shape, X.shape"
   ]
  },
  {
   "cell_type": "code",
   "execution_count": 179,
   "id": "afaadc5a",
   "metadata": {},
   "outputs": [],
   "source": [
    "MC_no= 100\n",
    "\n",
    "# Create empty array to store estimated thetas     \n",
    "theta_est = np.zeros(shape=[MC_no,6])\n",
    "\n",
    "shallow_rf = pd.DataFrame(columns=['coef', 'std err', 'P>|t|','2.5%','97.5%'])\n",
    "deep_rf = pd.DataFrame(columns=['coef', 'std err', 'P>|t|','2.5%','97.5%'])\n",
    "naive_dml = pd.DataFrame(columns=['coef', 'std err', 'P>|t|','2.5%','97.5%'])\n",
    "deep_rf_tworeg = pd.DataFrame(columns=['coef', 'std err', 'P>|t|','2.5%','97.5%'])\n",
    "naive_ = pd.DataFrame(columns=['coef', 'std err', 'P>|t|','2.5%','97.5%'])"
   ]
  },
  {
   "cell_type": "code",
   "execution_count": 180,
   "id": "773daf65",
   "metadata": {},
   "outputs": [
    {
     "name": "stderr",
     "output_type": "stream",
     "text": [
      "/Users/danielscott/opt/anaconda3/lib/python3.8/site-packages/doubleml/double_ml.py:90: UserWarning: apply_cross_fitting is set to False. Cross-fitting is not supported for n_folds = 1.\n",
      "  warnings.warn('apply_cross_fitting is set to False. Cross-fitting is not supported for n_folds = 1.')\n",
      "/Users/danielscott/opt/anaconda3/lib/python3.8/site-packages/doubleml/double_ml.py:90: UserWarning: apply_cross_fitting is set to False. Cross-fitting is not supported for n_folds = 1.\n",
      "  warnings.warn('apply_cross_fitting is set to False. Cross-fitting is not supported for n_folds = 1.')\n",
      "/Users/danielscott/opt/anaconda3/lib/python3.8/site-packages/doubleml/double_ml.py:90: UserWarning: apply_cross_fitting is set to False. Cross-fitting is not supported for n_folds = 1.\n",
      "  warnings.warn('apply_cross_fitting is set to False. Cross-fitting is not supported for n_folds = 1.')\n",
      "/Users/danielscott/opt/anaconda3/lib/python3.8/site-packages/doubleml/double_ml.py:90: UserWarning: apply_cross_fitting is set to False. Cross-fitting is not supported for n_folds = 1.\n",
      "  warnings.warn('apply_cross_fitting is set to False. Cross-fitting is not supported for n_folds = 1.')\n",
      "/Users/danielscott/opt/anaconda3/lib/python3.8/site-packages/doubleml/double_ml.py:90: UserWarning: apply_cross_fitting is set to False. Cross-fitting is not supported for n_folds = 1.\n",
      "  warnings.warn('apply_cross_fitting is set to False. Cross-fitting is not supported for n_folds = 1.')\n",
      "/Users/danielscott/opt/anaconda3/lib/python3.8/site-packages/doubleml/double_ml.py:90: UserWarning: apply_cross_fitting is set to False. Cross-fitting is not supported for n_folds = 1.\n",
      "  warnings.warn('apply_cross_fitting is set to False. Cross-fitting is not supported for n_folds = 1.')\n",
      "/Users/danielscott/opt/anaconda3/lib/python3.8/site-packages/doubleml/double_ml.py:90: UserWarning: apply_cross_fitting is set to False. Cross-fitting is not supported for n_folds = 1.\n",
      "  warnings.warn('apply_cross_fitting is set to False. Cross-fitting is not supported for n_folds = 1.')\n",
      "/Users/danielscott/opt/anaconda3/lib/python3.8/site-packages/doubleml/double_ml.py:90: UserWarning: apply_cross_fitting is set to False. Cross-fitting is not supported for n_folds = 1.\n",
      "  warnings.warn('apply_cross_fitting is set to False. Cross-fitting is not supported for n_folds = 1.')\n",
      "/Users/danielscott/opt/anaconda3/lib/python3.8/site-packages/doubleml/double_ml.py:90: UserWarning: apply_cross_fitting is set to False. Cross-fitting is not supported for n_folds = 1.\n",
      "  warnings.warn('apply_cross_fitting is set to False. Cross-fitting is not supported for n_folds = 1.')\n",
      "/Users/danielscott/opt/anaconda3/lib/python3.8/site-packages/doubleml/double_ml.py:90: UserWarning: apply_cross_fitting is set to False. Cross-fitting is not supported for n_folds = 1.\n",
      "  warnings.warn('apply_cross_fitting is set to False. Cross-fitting is not supported for n_folds = 1.')\n",
      "/Users/danielscott/opt/anaconda3/lib/python3.8/site-packages/doubleml/double_ml.py:90: UserWarning: apply_cross_fitting is set to False. Cross-fitting is not supported for n_folds = 1.\n",
      "  warnings.warn('apply_cross_fitting is set to False. Cross-fitting is not supported for n_folds = 1.')\n",
      "/Users/danielscott/opt/anaconda3/lib/python3.8/site-packages/doubleml/double_ml.py:90: UserWarning: apply_cross_fitting is set to False. Cross-fitting is not supported for n_folds = 1.\n",
      "  warnings.warn('apply_cross_fitting is set to False. Cross-fitting is not supported for n_folds = 1.')\n",
      "/Users/danielscott/opt/anaconda3/lib/python3.8/site-packages/doubleml/double_ml.py:90: UserWarning: apply_cross_fitting is set to False. Cross-fitting is not supported for n_folds = 1.\n",
      "  warnings.warn('apply_cross_fitting is set to False. Cross-fitting is not supported for n_folds = 1.')\n",
      "/Users/danielscott/opt/anaconda3/lib/python3.8/site-packages/doubleml/double_ml.py:90: UserWarning: apply_cross_fitting is set to False. Cross-fitting is not supported for n_folds = 1.\n",
      "  warnings.warn('apply_cross_fitting is set to False. Cross-fitting is not supported for n_folds = 1.')\n",
      "/Users/danielscott/opt/anaconda3/lib/python3.8/site-packages/doubleml/double_ml.py:90: UserWarning: apply_cross_fitting is set to False. Cross-fitting is not supported for n_folds = 1.\n",
      "  warnings.warn('apply_cross_fitting is set to False. Cross-fitting is not supported for n_folds = 1.')\n",
      "/Users/danielscott/opt/anaconda3/lib/python3.8/site-packages/doubleml/double_ml.py:90: UserWarning: apply_cross_fitting is set to False. Cross-fitting is not supported for n_folds = 1.\n",
      "  warnings.warn('apply_cross_fitting is set to False. Cross-fitting is not supported for n_folds = 1.')\n",
      "/Users/danielscott/opt/anaconda3/lib/python3.8/site-packages/doubleml/double_ml.py:90: UserWarning: apply_cross_fitting is set to False. Cross-fitting is not supported for n_folds = 1.\n",
      "  warnings.warn('apply_cross_fitting is set to False. Cross-fitting is not supported for n_folds = 1.')\n"
     ]
    },
    {
     "ename": "KeyboardInterrupt",
     "evalue": "",
     "output_type": "error",
     "traceback": [
      "\u001b[0;31m---------------------------------------------------------------------------\u001b[0m",
      "\u001b[0;31mKeyboardInterrupt\u001b[0m                         Traceback (most recent call last)",
      "\u001b[0;32m/var/folders/5s/1s1d8kl93nv_qt5jqsp19sh00000gn/T/ipykernel_3792/808236095.py\u001b[0m in \u001b[0;36m<module>\u001b[0;34m\u001b[0m\n\u001b[1;32m     93\u001b[0m \u001b[0;34m\u001b[0m\u001b[0m\n\u001b[1;32m     94\u001b[0m     \u001b[0;31m#save Naive ML estimate into theta_estimate array\u001b[0m\u001b[0;34m\u001b[0m\u001b[0;34m\u001b[0m\u001b[0;34m\u001b[0m\u001b[0m\n\u001b[0;32m---> 95\u001b[0;31m     \u001b[0mtheta_est\u001b[0m\u001b[0;34m[\u001b[0m\u001b[0mi\u001b[0m\u001b[0;34m]\u001b[0m\u001b[0;34m[\u001b[0m\u001b[0;36m4\u001b[0m\u001b[0;34m]\u001b[0m \u001b[0;34m=\u001b[0m \u001b[0mnp\u001b[0m\u001b[0;34m.\u001b[0m\u001b[0mmean\u001b[0m\u001b[0;34m(\u001b[0m\u001b[0mnp\u001b[0m\u001b[0;34m.\u001b[0m\u001b[0mdot\u001b[0m\u001b[0;34m(\u001b[0m\u001b[0mVhat\u001b[0m\u001b[0;34m,\u001b[0m\u001b[0mY\u001b[0m\u001b[0;34m-\u001b[0m\u001b[0mGhat\u001b[0m\u001b[0;34m)\u001b[0m\u001b[0;34m)\u001b[0m\u001b[0;34m/\u001b[0m\u001b[0mnp\u001b[0m\u001b[0;34m.\u001b[0m\u001b[0mmean\u001b[0m\u001b[0;34m(\u001b[0m\u001b[0mnp\u001b[0m\u001b[0;34m.\u001b[0m\u001b[0mdot\u001b[0m\u001b[0;34m(\u001b[0m\u001b[0mVhat\u001b[0m\u001b[0;34m,\u001b[0m\u001b[0mD\u001b[0m\u001b[0;34m)\u001b[0m\u001b[0;34m)\u001b[0m\u001b[0;34m\u001b[0m\u001b[0;34m\u001b[0m\u001b[0m\n\u001b[0m\u001b[1;32m     96\u001b[0m \u001b[0;34m\u001b[0m\u001b[0m\n\u001b[1;32m     97\u001b[0m     \u001b[0;31m######################################################################\u001b[0m\u001b[0;34m\u001b[0m\u001b[0;34m\u001b[0m\u001b[0;34m\u001b[0m\u001b[0m\n",
      "\u001b[0;32m<__array_function__ internals>\u001b[0m in \u001b[0;36mdot\u001b[0;34m(*args, **kwargs)\u001b[0m\n",
      "\u001b[0;31mKeyboardInterrupt\u001b[0m: "
     ]
    }
   ],
   "source": [
    "#for each simulation\n",
    "for i in range(MC_no):\n",
    "    #\n",
    "    # Now run the different methods     # \n",
    "    ######################################################################    \n",
    "    # OLS --------------------------------------------------     \n",
    "    ######################################################################\n",
    "    OLS = sm.OLS(Y,D.ravel())\n",
    "    results = OLS.fit()\n",
    "    #save OLS estimate into theta_estimate array\n",
    "    theta_est[i][0] = results.params[0]\n",
    "    \n",
    "    ######################################################################\n",
    "    # shallow DML DML1 algo                    -----------------------------------     \n",
    "    ######################################################################\n",
    "    dml_data = DoubleMLData.from_arrays(X, Y.ravel(), D)\n",
    "\n",
    "    ml_g_rf = RandomForestRegressor(max_depth=4)\n",
    "    ml_m_rf = RandomForestRegressor(max_depth=4)\n",
    "    \n",
    "    shallow_dml_plr_tree = DoubleMLPLR(dml_data,\n",
    "                             ml_g = ml_g_rf,\n",
    "                             ml_m = ml_m_rf,\n",
    "                             n_folds = 2,\n",
    "                             n_rep = 1,\n",
    "                             score = 'partialling out',\n",
    "                             dml_procedure = 'dml1')\n",
    "    #estimation\n",
    "    shallow_dml_plr_tree.fit(store_predictions=True)\n",
    "    \n",
    "    #coefficient estimate\n",
    "    theta_est[i][1] = shallow_dml_plr_tree.coef\n",
    "    \n",
    "    shallow_rf = shallow_rf.append(shallow_dml_plr_tree.summary)\n",
    "    \n",
    "    ######################################################################\n",
    "    # DML deeper DML1 algo two regressors     \n",
    "    ######################################################################    \n",
    "    \n",
    "    \n",
    "    dml_data = DoubleMLData.from_arrays(X, Y.ravel(), D)\n",
    "\n",
    "    ml_g_rf = RandomForestRegressor(n_estimators=500, max_depth=7, max_features=3, min_samples_leaf=3)\n",
    "    ml_m_rf = RandomForestRegressor(n_estimators=500, max_depth=5, max_features=4, min_samples_leaf=7)\n",
    "    deep_dml_plr_tree = DoubleMLPLR(dml_data,\n",
    "                             ml_g = ml_g_rf,\n",
    "                             ml_m = ml_m_rf,\n",
    "                             n_folds = 1)\n",
    "    #estimation\n",
    "    deep_dml_plr_tree.fit(store_predictions=True)\n",
    "    \n",
    "    #coefficient estimate\n",
    "    theta_est[i][2] = deep_dml_plr_tree.coef\n",
    "    deep_rf_tworeg = deep_rf_tworeg.append(deep_dml_plr_tree.summary)\n",
    "    \n",
    "    ######################################################################\n",
    "    # DML deeper DML1 algo    classifier-----------------------------------     \n",
    "    ######################################################################\n",
    "    dml_data = DoubleMLData.from_arrays(X, Y.ravel(), D)\n",
    "\n",
    "    ml_g_rf = RandomForestRegressor(n_estimators=500, max_depth=7, max_features=3, min_samples_leaf=3)\n",
    "    ml_m_rf = RandomForestClassifier(n_estimators=500, max_depth=5, max_features=4, min_samples_leaf=7)\n",
    "    deep_dml_plr_tree = DoubleMLPLR(dml_data,\n",
    "                             ml_g = ml_g_rf,\n",
    "                             ml_m = ml_m_rf,\n",
    "                             n_folds = 3)\n",
    "    #estimation\n",
    "    deep_dml_plr_tree.fit(store_predictions=True)\n",
    "    \n",
    "    #coefficient estimate\n",
    "    theta_est[i][3] = deep_dml_plr_tree.coef\n",
    "    deep_rf = deep_rf.append(deep_dml_plr_tree.summary)\n",
    "    \n",
    "    ######################################################################\n",
    "    # Naive double machine Learning \n",
    "    # With orthogonal (for regularisation)\n",
    "    # No Cross fitting (for bias)\n",
    "    ######################################################################\n",
    "    \n",
    "    #naiveDMLg =RandomForestRegressor(max_depth=4)\n",
    "\n",
    "    # Compute ghat     \n",
    "    #naiveDMLg.fit(X,Y.ravel())\n",
    "    #Ghat = naiveDMLg.predict(X)\n",
    "    \n",
    "    # Compute ghat     \n",
    "    #naiveDMLm =RandomForestRegressor(max_depth=4)\n",
    "    #naiveDMLm.fit(X,D.ravel())\n",
    "    #Mhat = naiveDMLm.predict(X)\n",
    "    \n",
    "    # vhat as residual, orthogonalized regressors     \n",
    "    #Vhat = D-Mhat\n",
    "    \n",
    "    #save Naive ML estimate into theta_estimate array\n",
    "    #theta_est[i][4] = np.mean(np.dot(Vhat,Y-Ghat))/np.mean(np.dot(Vhat,D))\n",
    "    \n",
    "    ######################################################################\n",
    "    # Naive double machine Learning \n",
    "    # With orthogonal (for regularisation)\n",
    "    # No Cross fitting (for bias)\n",
    "    ######################################################################    \n",
    "    \n",
    "    \n",
    "    dml_data = DoubleMLData.from_arrays(X, Y.ravel(), D)\n",
    "\n",
    "    ml_g_rf = RandomForestRegressor(n_estimators=500, max_depth=7, max_features=3, min_samples_leaf=3)\n",
    "    ml_m_rf = RandomForestClassifier(n_estimators=500, max_depth=5, max_features=4, min_samples_leaf=7)\n",
    "    deep_dml_plr_tree = DoubleMLPLR(dml_data,\n",
    "                             ml_g = ml_g_rf,\n",
    "                             ml_m = ml_m_rf,\n",
    "                             n_folds = 1)\n",
    "    #estimation\n",
    "    deep_dml_plr_tree.fit(store_predictions=True)\n",
    "    \n",
    "    #coefficient estimate\n",
    "    theta_est[i][5] = deep_dml_plr_tree.coef\n",
    "    naive_ = naive_.append(deep_dml_plr_tree.summary)"
   ]
  },
  {
   "cell_type": "code",
   "execution_count": 187,
   "id": "dc696aeb",
   "metadata": {},
   "outputs": [
    {
     "data": {
      "text/html": [
       "<div>\n",
       "<style scoped>\n",
       "    .dataframe tbody tr th:only-of-type {\n",
       "        vertical-align: middle;\n",
       "    }\n",
       "\n",
       "    .dataframe tbody tr th {\n",
       "        vertical-align: top;\n",
       "    }\n",
       "\n",
       "    .dataframe thead th {\n",
       "        text-align: right;\n",
       "    }\n",
       "</style>\n",
       "<table border=\"1\" class=\"dataframe\">\n",
       "  <thead>\n",
       "    <tr style=\"text-align: right;\">\n",
       "      <th></th>\n",
       "      <th>coef</th>\n",
       "      <th>std err</th>\n",
       "      <th>t</th>\n",
       "      <th>P&gt;|t|</th>\n",
       "      <th>2.5 %</th>\n",
       "      <th>97.5 %</th>\n",
       "    </tr>\n",
       "  </thead>\n",
       "  <tbody>\n",
       "    <tr>\n",
       "      <th>d</th>\n",
       "      <td>8966.886831</td>\n",
       "      <td>1303.267086</td>\n",
       "      <td>6.880314</td>\n",
       "      <td>5.972076e-12</td>\n",
       "      <td>6412.53028</td>\n",
       "      <td>11521.243383</td>\n",
       "    </tr>\n",
       "  </tbody>\n",
       "</table>\n",
       "</div>"
      ],
      "text/plain": [
       "          coef      std err         t         P>|t|       2.5 %        97.5 %\n",
       "d  8966.886831  1303.267086  6.880314  5.972076e-12  6412.53028  11521.243383"
      ]
     },
     "execution_count": 187,
     "metadata": {},
     "output_type": "execute_result"
    }
   ],
   "source": [
    "deep_dml_plr_tree.summary"
   ]
  },
  {
   "cell_type": "code",
   "execution_count": 139,
   "id": "66336cb3",
   "metadata": {},
   "outputs": [
    {
     "name": "stdout",
     "output_type": "stream",
     "text": [
      "OLS avg 30347.4, shallow DML RF 8593.4, deeper DML RF 8985.8, naive DML RF no xfitting 75874.3\n"
     ]
    }
   ],
   "source": [
    "print(\"OLS avg {:.1f}, shallow DML RF {:.1f}, deeper DML RF {:.1f}, naive DML RF no xfitting {:.1f}\".format(theta_est[:,0].mean(),theta_est[:,1].mean(),theta_est[:,2].mean(),theta_est[:,3].mean()))"
   ]
  },
  {
   "cell_type": "code",
   "execution_count": 182,
   "id": "8c0a1f2c",
   "metadata": {
    "scrolled": false
   },
   "outputs": [
    {
     "data": {
      "image/png": "[encoded data removed]",
      "text/plain": [
       "<Figure size 402.375x360 with 1 Axes>"
      ]
     },
     "metadata": {
      "needs_background": "light"
     },
     "output_type": "display_data"
    }
   ],
   "source": [
    "#generate density plot\n",
    "g = sns.displot(theta_est[:,1:6],kde=True, legend=True).set(title='distribution of estimating theta with {} runs'.format(MC_no))\n",
    "# title\n",
    "new_title = 'Method'\n",
    "g._legend.set_title(new_title)\n",
    "# replace labels\n",
    "new_labels = ['shallow DML package' ,'DML package deeper','Naive DML no-crossfitting']\n",
    "for t, l in zip(g._legend.texts, new_labels): t.set_text(l)\n",
    "#ols_mean = theta_est[:,0].mean()\n",
    "#plt.axvline(ols_mean, c = 'green', ls = '--', alpha = 0.3)\n",
    "shallow_dml = theta_est[:,1].mean()\n",
    "plt.axvline(shallow_dml, c='navy',ls = '--', alpha = 0.7)\n",
    "deep_dml = theta_est[:,2].mean()\n",
    "plt.axvline(deep_dml, c = 'orange',ls = '--', alpha = 0.9)\n",
    "naive_dml = theta_est[:,3].mean()\n",
    "plt.axvline(naive_dml, c = 'red',ls = '-', alpha = 0.8)\n",
    "#plt.xlim(6000,11000)\n",
    "plt.show()"
   ]
  },
  {
   "cell_type": "code",
   "execution_count": 183,
   "id": "d3fe0c32",
   "metadata": {},
   "outputs": [
    {
     "data": {
      "text/plain": [
       "<seaborn.axisgrid.FacetGrid at 0x7faefdc0b7c0>"
      ]
     },
     "execution_count": 183,
     "metadata": {},
     "output_type": "execute_result"
    },
    {
     "data": {
      "image/png": "[encoded data removed]",
      "text/plain": [
       "<Figure size 360x360 with 1 Axes>"
      ]
     },
     "metadata": {
      "needs_background": "light"
     },
     "output_type": "display_data"
    },
    {
     "data": {
      "image/png": "[encoded data removed]",
      "text/plain": [
       "<Figure size 360x360 with 1 Axes>"
      ]
     },
     "metadata": {
      "needs_background": "light"
     },
     "output_type": "display_data"
    },
    {
     "data": {
      "image/png": "[encoded data removed]",
      "text/plain": [
       "<Figure size 360x360 with 1 Axes>"
      ]
     },
     "metadata": {
      "needs_background": "light"
     },
     "output_type": "display_data"
    },
    {
     "data": {
      "image/png": "[encoded data removed]",
      "text/plain": [
       "<Figure size 360x360 with 1 Axes>"
      ]
     },
     "metadata": {
      "needs_background": "light"
     },
     "output_type": "display_data"
    },
    {
     "data": {
      "image/png": "[encoded data removed]",
      "text/plain": [
       "<Figure size 360x360 with 1 Axes>"
      ]
     },
     "metadata": {
      "needs_background": "light"
     },
     "output_type": "display_data"
    }
   ],
   "source": [
    "#generate density plot\n",
    "sns.displot(theta_est[:,1],kde=True, legend=True).set(title='shallow')\n",
    "sns.displot(theta_est[:,2],kde=True, legend=True).set(title='deep two regressors')\n",
    "sns.displot(theta_est[:,3],kde=True, legend=True).set(title='deep classifier')\n",
    "sns.displot(theta_est[:,4],kde=True, legend=True).set(title='naive manual')\n",
    "sns.displot(theta_est[:,5],kde=True, legend=True).set(title='naive DML')"
   ]
  },
  {
   "cell_type": "code",
   "execution_count": 151,
   "id": "660fa32e",
   "metadata": {},
   "outputs": [
    {
     "data": {
      "text/html": [
       "<div>\n",
       "<style scoped>\n",
       "    .dataframe tbody tr th:only-of-type {\n",
       "        vertical-align: middle;\n",
       "    }\n",
       "\n",
       "    .dataframe tbody tr th {\n",
       "        vertical-align: top;\n",
       "    }\n",
       "\n",
       "    .dataframe thead th {\n",
       "        text-align: right;\n",
       "    }\n",
       "</style>\n",
       "<table border=\"1\" class=\"dataframe\">\n",
       "  <thead>\n",
       "    <tr style=\"text-align: right;\">\n",
       "      <th></th>\n",
       "      <th>coef</th>\n",
       "      <th>2.5 %</th>\n",
       "      <th>97.5 %</th>\n",
       "    </tr>\n",
       "  </thead>\n",
       "  <tbody>\n",
       "    <tr>\n",
       "      <th>shallow</th>\n",
       "      <td>8593.360843</td>\n",
       "      <td>5955.081377</td>\n",
       "      <td>11231.640308</td>\n",
       "    </tr>\n",
       "    <tr>\n",
       "      <th>deep</th>\n",
       "      <td>8985.751411</td>\n",
       "      <td>6400.052830</td>\n",
       "      <td>11571.449993</td>\n",
       "    </tr>\n",
       "  </tbody>\n",
       "</table>\n",
       "</div>"
      ],
      "text/plain": [
       "                coef        2.5 %        97.5 %\n",
       "shallow  8593.360843  5955.081377  11231.640308\n",
       "deep     8985.751411  6400.052830  11571.449993"
      ]
     },
     "execution_count": 151,
     "metadata": {},
     "output_type": "execute_result"
    }
   ],
   "source": [
    "plr_summary = pd.concat((shallow_rf.mean().to_frame().T, deep_rf.mean().to_frame().T))\n",
    "plr_summary.index = ['shallow', 'deep']\n",
    "plr_summary[['coef', '2.5 %', '97.5 %']]"
   ]
  },
  {
   "cell_type": "code",
   "execution_count": 152,
   "id": "502ff2c4",
   "metadata": {},
   "outputs": [
    {
     "data": {
      "image/png": "[encoded data removed]",
      "text/plain": [
       "<Figure size 432x288 with 1 Axes>"
      ]
     },
     "metadata": {
      "needs_background": "light"
     },
     "output_type": "display_data"
    }
   ],
   "source": [
    "errors = np.full((2, plr_summary.shape[0]), np.nan)\n",
    "errors[0, :] = plr_summary['coef'] - plr_summary['2.5 %']\n",
    "errors[1, :] = plr_summary['97.5 %'] - plr_summary['coef']\n",
    "plt.errorbar(plr_summary.index, plr_summary.coef, fmt='o', yerr=errors)\n",
    "plt.ylim([0, 12500])\n",
    "\n",
    "plt.title('Partially Linear Regression Model (PLR)')\n",
    "plt.xlabel('ML method')\n",
    "_ =  plt.ylabel('Coefficients and 95%-CI')"
   ]
  },
  {
   "cell_type": "code",
   "execution_count": null,
   "id": "024252a7",
   "metadata": {},
   "outputs": [],
   "source": []
  }
 ],
 "metadata": {
  "kernelspec": {
   "display_name": "Python 3 (ipykernel)",
   "language": "python",
   "name": "python3"
  },
  "language_info": {
   "codemirror_mode": {
    "name": "ipython",
    "version": 3
   },
   "file_extension": ".py",
   "mimetype": "text/x-python",
   "name": "python",
   "nbconvert_exporter": "python",
   "pygments_lexer": "ipython3",
   "version": "3.8.12"
  }
 },
 "nbformat": 4,
 "nbformat_minor": 5
}
