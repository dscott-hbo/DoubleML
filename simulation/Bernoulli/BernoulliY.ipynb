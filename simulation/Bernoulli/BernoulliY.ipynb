{
 "cells": [
  {
   "cell_type": "code",
   "execution_count": 1,
   "id": "e372410f",
   "metadata": {},
   "outputs": [
    {
     "name": "stdout",
     "output_type": "stream",
     "text": [
      "Collecting doubleml\n",
      "  Using cached DoubleML-0.4.1-py3-none-any.whl (116 kB)\n",
      "Requirement already satisfied: numpy in /home/ec2-user/anaconda3/envs/pytorch_p36/lib/python3.6/site-packages (from doubleml) (1.19.5)\n",
      "Requirement already satisfied: joblib in /home/ec2-user/anaconda3/envs/pytorch_p36/lib/python3.6/site-packages (from doubleml) (1.0.1)\n",
      "Requirement already satisfied: sklearn in /home/ec2-user/anaconda3/envs/pytorch_p36/lib/python3.6/site-packages (from doubleml) (0.0)\n",
      "Requirement already satisfied: scipy in /home/ec2-user/anaconda3/envs/pytorch_p36/lib/python3.6/site-packages (from doubleml) (1.5.3)\n",
      "Requirement already satisfied: pandas in /home/ec2-user/anaconda3/envs/pytorch_p36/lib/python3.6/site-packages (from doubleml) (1.1.5)\n",
      "Requirement already satisfied: statsmodels in /home/ec2-user/anaconda3/envs/pytorch_p36/lib/python3.6/site-packages (from doubleml) (0.12.2)\n",
      "Requirement already satisfied: python-dateutil>=2.7.3 in /home/ec2-user/anaconda3/envs/pytorch_p36/lib/python3.6/site-packages (from pandas->doubleml) (2.8.1)\n",
      "Requirement already satisfied: pytz>=2017.2 in /home/ec2-user/anaconda3/envs/pytorch_p36/lib/python3.6/site-packages (from pandas->doubleml) (2021.1)\n",
      "Requirement already satisfied: scikit-learn in /home/ec2-user/anaconda3/envs/pytorch_p36/lib/python3.6/site-packages (from sklearn->doubleml) (0.24.2)\n",
      "Requirement already satisfied: patsy>=0.5 in /home/ec2-user/anaconda3/envs/pytorch_p36/lib/python3.6/site-packages (from statsmodels->doubleml) (0.5.1)\n",
      "Requirement already satisfied: six in /home/ec2-user/anaconda3/envs/pytorch_p36/lib/python3.6/site-packages (from patsy>=0.5->statsmodels->doubleml) (1.16.0)\n",
      "Requirement already satisfied: threadpoolctl>=2.0.0 in /home/ec2-user/anaconda3/envs/pytorch_p36/lib/python3.6/site-packages (from scikit-learn->sklearn->doubleml) (2.1.0)\n",
      "Installing collected packages: doubleml\n",
      "Successfully installed doubleml-0.4.1\n",
      "Note: you may need to restart the kernel to use updated packages.\n"
     ]
    }
   ],
   "source": [
    "pip install doubleml"
   ]
  },
  {
   "cell_type": "code",
   "execution_count": 2,
   "id": "ca3eed23",
   "metadata": {},
   "outputs": [],
   "source": [
    "import numpy as np\n",
    "from scipy import stats\n",
    "from scipy.stats import bernoulli\n",
    "import pandas as pd\n",
    "import statsmodels.api as sm\n",
    "from sklearn.ensemble import RandomForestRegressor\n",
    "from sklearn.ensemble import RandomForestClassifier\n",
    "import seaborn as sns\n",
    "import matplotlib.pyplot as plt\n",
    "from doubleml import DoubleMLData\n",
    "from doubleml import DoubleMLPLR\n",
    "from scipy.special import expit"
   ]
  },
  {
   "cell_type": "code",
   "execution_count": null,
   "id": "802c13ce",
   "metadata": {},
   "outputs": [],
   "source": [
    "def gen_features_bernY(n_samples,n_features, trt_effect,treatment_prob, distribution, noise,seed):\n",
    "    \"\"\"\n",
    "    Function to generate synthetic bernoulli outputs.\n",
    "    \n",
    "    \n",
    "    By adding noise, you increase the probability for the output bit to be flipped\n",
    "    \"\"\"\n",
    "    if distribution == 'gaussian':\n",
    "        X = np.random.randn(n_samples, n_features)\n",
    "        D =  bernoulli.rvs(p = treatment_prob,size=n_samples) # treatment var\n",
    "        dx = np.column_stack((D,X)) #\n",
    "        weights = np.append(trt_effect,stats.norm.rvs(0, 1, size = n_features))\n",
    "        \n",
    "        #squeeze through logisitc sigmoid function\n",
    "        Y =  expit(np.dot(dx,weights.T))\n",
    "        #convert into binary outcomes\n",
    "        Y = np.where(Y > 0.5, 1, 0)\n",
    "        #add small prob to flip bit\n",
    "        if noise > 0.0:\n",
    "            flip_prob = noise\n",
    "            flip_mask = np.array(np.random.choice([0,1], p=[1-flip_prob, flip_prob], size = Y.shape))  #80       \n",
    "            Y_flipped = abs(Y - flip_mask)  \n",
    "\n",
    "    elif distribution == 'bernoulli':\n",
    "        # generate X features\n",
    "        p_vec = np.random.uniform(size = int(n_features))\n",
    "        X = stats.bernoulli.rvs(p = p_vec, size = [n_samples,int(n_features)])\n",
    "        \n",
    "        #add the treatment var into X data        \n",
    "        D = bernoulli.rvs(p = treatment_prob,size=n_samples) # treatment var\n",
    "        dx = np.column_stack((D,X))\n",
    "        #generate weights\n",
    "        weights = np.append(trt_effect,stats.norm.rvs(0, 1, size = int(n_features)))\n",
    "        Y = expit(np.dot(dx,weights.T))\n",
    "        Y = np.where(Y > 0.5, 1, 0)\n",
    "        \n",
    "        #implement noise for bernoulli with noise = p(flip bit)\n",
    "        if noise >0.0:\n",
    "            flip_prob = noise\n",
    "            flip_mask = np.array(np.random.choice([0,1], p=[1-flip_prob, flip_prob], size = Y.shape))  #80       \n",
    "            Y_flipped = abs(Y - flip_mask)              \n",
    "    else:\n",
    "        print(\"Not a valid distribution\")\n",
    "    \n",
    "    return X,dx,weights, Y, D,flip_mask, Y_flipped"
   ]
  },
  {
   "cell_type": "code",
   "execution_count": null,
   "id": "e8fb95ba",
   "metadata": {},
   "outputs": [],
   "source": [
    "trt_effect = 0.5 #float\n",
    "num_runs = [1,2,3] #array of integers\n",
    "data_distribution = [\"bernoulli\",\"gaussian\"] #gaussian/bernoulli\n",
    "num_samples = 10 #array of integers\n",
    "num_feats = 10 #array of integers\n",
    "noises = 0.1 #\n",
    "trt_prob = 0.9\n",
    "seed = 123\n",
    "X,dx, weights,Y,D, flip, yflipped = gen_features_bernY(n_samples=num_samples,\n",
    "                                                       n_features=num_feats,trt_effect=trt_effect,\n",
    "                                                       treatment_prob=trt_prob,distribution='gaussian',\n",
    "                                                       noise=noises, seed=seed)"
   ]
  },
  {
   "cell_type": "markdown",
   "id": "9008dcab",
   "metadata": {},
   "source": [
    "Below we can see the effect of the flipping of the outcome. The \"Y\" variable holds the original calculated Y, \"flip\" contains the binary switch of which digit will be flipped and finally \"yflipped\" contains the final outcome which is the abs(Y - flip)."
   ]
  },
  {
   "cell_type": "code",
   "execution_count": null,
   "id": "642e26f2",
   "metadata": {},
   "outputs": [],
   "source": [
    "Y, flip, yflipped"
   ]
  },
  {
   "cell_type": "code",
   "execution_count": null,
   "id": "398d7c52",
   "metadata": {},
   "outputs": [],
   "source": [
    "#define simulation parameters\n",
    "trt_effect = 0.5 #float\n",
    "num_runs = [1,2,3] #array of integers\n",
    "data_distribution = [\"bernoulli\",\"gaussian\"] #gaussian/bernoulli\n",
    "num_samples = [1000000] #array of integers\n",
    "num_feats = [10] #array of integers\n",
    "noises = [0.1] #array of floats. normally distributed noise centered around 0. This value changes the std\n",
    "trt_prob = [0.9]\n",
    "seed = 123\n",
    "\n",
    "#create empty df to hold \n",
    "df = pd.DataFrame(columns=['Run', 'OLS','OLS_LB','OLS_UB','std_err','DML','DML_err', 'DML_LB','DML_UB','DML_t_stat','num_samples','distribution','num_features','noise'])\n",
    "\n",
    "############################\n",
    "#### Execute simulation ####\n",
    "############################\n",
    "for run in num_runs:\n",
    "    for feature_num in num_feats:\n",
    "        for samples in num_samples:\n",
    "            for dist in data_distribution:\n",
    "                for noise in noises:\n",
    "                #generate data\n",
    "                    X,dx, weights,_,D, _, Y = gen_features_bernY(n_samples=samples,n_features=feature_num,trt_effect=trt_effect,treatment_prob=trt_prob,distribution=dist,noise=noise, seed=seed)\n",
    "                    ######################################################################    \n",
    "                    # OLS --------------------------------------------------     \n",
    "                    ######################################################################\n",
    "                    OLS = sm.OLS(Y,dx)\n",
    "                    results = OLS.fit()        \n",
    "                    \n",
    "                    ####\n",
    "                    ##Add confidence interval for OLS\n",
    "                    ols_LB = results.conf_int(alpha=0.05, cols=None)[0][0]\n",
    "                    ols_UB = results.conf_int(alpha=0.05, cols=None)[0][1]            \n",
    "                    std_err = results.bse[0]\n",
    "                    \n",
    "                    ######################################################################\n",
    "                    # DML package                      -----------------------------------     \n",
    "                    ######################################################################\n",
    "                    # DML ml_m_rf as classifier        -----------------------------------     \n",
    "                    ######################################################################\n",
    "                    dml_data = DoubleMLData.from_arrays(X, Y, D)\n",
    "                    \n",
    "                    ml_g_rf = RandomForestRegressor(n_estimators=100,max_depth=10, n_jobs = -1)\n",
    "                    ml_m_rf = RandomForestClassifier(n_estimators=100,max_depth=10, n_jobs = -1)\n",
    "                    \n",
    "                    dml_plr_tree = DoubleMLPLR(dml_data, ml_g = ml_g_rf, ml_m = ml_m_rf)\n",
    "                    #estimation\n",
    "                    dml_plr_tree.fit()\n",
    "\n",
    "                    row = [run,results.params[0],ols_LB,ols_UB,std_err, dml_plr_tree.coef,dml_plr_tree.se, dml_plr_tree.confint().iloc[0][0],dml_plr_tree.confint().iloc[0][1],dml_plr_tree.t_stat, samples, dist, feature_num, noise]\n",
    "                    df.loc[len(df)] = row"
   ]
  },
  {
   "cell_type": "code",
   "execution_count": null,
   "id": "0c851718",
   "metadata": {},
   "outputs": [],
   "source": [
    "df[['DML','DML_err','DML_t_stat']] = df[['DML','DML_err','DML_t_stat']].apply(lambda x: x.str[0])"
   ]
  },
  {
   "cell_type": "code",
   "execution_count": null,
   "id": "75942f71",
   "metadata": {},
   "outputs": [],
   "source": [
    "df"
   ]
  },
  {
   "cell_type": "markdown",
   "id": "671fdfdd",
   "metadata": {},
   "source": [
    "This seems to throw OLS and DoubleML off, although OLS does perform better. DML does not get close to the prediction"
   ]
  },
  {
   "cell_type": "code",
   "execution_count": null,
   "id": "f02d6aa1",
   "metadata": {},
   "outputs": [],
   "source": [
    "X[:1]"
   ]
  },
  {
   "cell_type": "code",
   "execution_count": null,
   "id": "fd548f8d",
   "metadata": {},
   "outputs": [],
   "source": [
    "Y[:1]"
   ]
  },
  {
   "cell_type": "code",
   "execution_count": null,
   "id": "b71d0a09",
   "metadata": {},
   "outputs": [],
   "source": [
    "D[:1]"
   ]
  },
  {
   "cell_type": "code",
   "execution_count": null,
   "id": "cd884c43",
   "metadata": {},
   "outputs": [],
   "source": [
    "dml_plr_tree.summary"
   ]
  },
  {
   "cell_type": "code",
   "execution_count": 144,
   "id": "0dc421ea",
   "metadata": {},
   "outputs": [
    {
     "data": {
      "text/plain": [
       "Text(0.5, 1.0, '1M samples, 10 features, bernoulli Y')"
      ]
     },
     "execution_count": 144,
     "metadata": {},
     "output_type": "execute_result"
    },
    {
     "data": {
      "image/png": "[encoded data removed]",
      "text/plain": [
       "<Figure size 432x288 with 1 Axes>"
      ]
     },
     "metadata": {
      "needs_background": "light"
     },
     "output_type": "display_data"
    }
   ],
   "source": [
    "sns.kdeplot(df.OLS, label = 'OLS')\n",
    "sns.kdeplot(df.DML, label = 'DML', linewidth='5')\n",
    "plt.axvline(trt_effect, color = 'r', linestyle='--')\n",
    "plt.ylim(0,20)\n",
    "plt.legend()\n",
    "plt.title(\"1M samples, 10 features, bernoulli Y\")"
   ]
  },
  {
   "cell_type": "markdown",
   "id": "097d3817",
   "metadata": {},
   "source": [
    "Now lets try with less noise"
   ]
  },
  {
   "cell_type": "code",
   "execution_count": 138,
   "id": "eaf179f8",
   "metadata": {},
   "outputs": [],
   "source": [
    "#define simulation parameters\n",
    "trt_effect = 0.5 #float\n",
    "num_runs = [1,2,3] #array of integers\n",
    "data_distribution = [\"bernoulli\",\"gaussian\"] #gaussian/bernoulli\n",
    "num_samples = [1000000] #array of integers\n",
    "num_feats = [10] #array of integers\n",
    "noises = [0.0001] #array of floats. normally distributed noise centered around 0. This value changes the std\n",
    "trt_prob = [0.9]\n",
    "seed = 123\n",
    "\n",
    "#create empty df to hold \n",
    "df2 = pd.DataFrame(columns=['Run', 'OLS','OLS_LB','OLS_UB','std_err','DML','DML_err', 'DML_LB','DML_UB','DML_t_stat','num_samples','distribution','num_features','noise'])\n",
    "\n",
    "############################\n",
    "#### Execute simulation ####\n",
    "############################\n",
    "for run in num_runs:\n",
    "    for feature_num in num_feats:\n",
    "        for samples in num_samples:\n",
    "            for dist in data_distribution:\n",
    "                for noise in noises:\n",
    "                #generate data\n",
    "                    X,dx, weights,old_y,D, mask, Y = gen_features_bernY(n_samples=samples,n_features=feature_num,trt_effect=trt_effect,treatment_prob=trt_prob,distribution=dist,noise=noise, seed=seed)\n",
    "                    ######################################################################    \n",
    "                    # OLS --------------------------------------------------     \n",
    "                    ######################################################################\n",
    "                    OLS = sm.OLS(Y,dx)\n",
    "                    results = OLS.fit()        \n",
    "                    \n",
    "                    ####\n",
    "                    ##Add confidence interval for OLS\n",
    "                    ols_LB = results.conf_int(alpha=0.05, cols=None)[0][0]\n",
    "                    ols_UB = results.conf_int(alpha=0.05, cols=None)[0][1]            \n",
    "                    std_err = results.bse[0]\n",
    "                    \n",
    "                    ######################################################################\n",
    "                    # DML package                      -----------------------------------     \n",
    "                    ######################################################################\n",
    "                    # DML ml_m_rf as classifier        -----------------------------------     \n",
    "                    ######################################################################\n",
    "                    dml_data = DoubleMLData.from_arrays(X, Y, D)\n",
    "                    \n",
    "                    ml_g_rf = RandomForestRegressor(n_estimators=100,max_depth=10, n_jobs = -1)\n",
    "                    ml_m_rf = RandomForestClassifier(n_estimators=100,max_depth=10, n_jobs = -1)\n",
    "                    \n",
    "                    dml_plr_tree = DoubleMLPLR(dml_data, ml_g = ml_g_rf, ml_m = ml_m_rf)\n",
    "                    #estimation\n",
    "                    dml_plr_tree.fit()\n",
    "\n",
    "                    row = [run,results.params[0],ols_LB,ols_UB,std_err, dml_plr_tree.coef,dml_plr_tree.se, dml_plr_tree.confint().iloc[0][0],dml_plr_tree.confint().iloc[0][1],dml_plr_tree.t_stat, samples, dist, feature_num, noise]\n",
    "                    df2.loc[len(df2)] = row"
   ]
  },
  {
   "cell_type": "code",
   "execution_count": 140,
   "id": "d44c4c24",
   "metadata": {},
   "outputs": [
    {
     "data": {
      "text/html": [
       "<div>\n",
       "<style scoped>\n",
       "    .dataframe tbody tr th:only-of-type {\n",
       "        vertical-align: middle;\n",
       "    }\n",
       "\n",
       "    .dataframe tbody tr th {\n",
       "        vertical-align: top;\n",
       "    }\n",
       "\n",
       "    .dataframe thead th {\n",
       "        text-align: right;\n",
       "    }\n",
       "</style>\n",
       "<table border=\"1\" class=\"dataframe\">\n",
       "  <thead>\n",
       "    <tr style=\"text-align: right;\">\n",
       "      <th></th>\n",
       "      <th>Run</th>\n",
       "      <th>OLS</th>\n",
       "      <th>OLS_LB</th>\n",
       "      <th>OLS_UB</th>\n",
       "      <th>std_err</th>\n",
       "      <th>DML</th>\n",
       "      <th>DML_err</th>\n",
       "      <th>DML_LB</th>\n",
       "      <th>DML_UB</th>\n",
       "      <th>DML_t_stat</th>\n",
       "      <th>num_samples</th>\n",
       "      <th>distribution</th>\n",
       "      <th>num_features</th>\n",
       "      <th>noise</th>\n",
       "    </tr>\n",
       "  </thead>\n",
       "  <tbody>\n",
       "    <tr>\n",
       "      <th>0</th>\n",
       "      <td>1</td>\n",
       "      <td>0.340265</td>\n",
       "      <td>0.338638</td>\n",
       "      <td>0.341892</td>\n",
       "      <td>0.000830</td>\n",
       "      <td>0.158095</td>\n",
       "      <td>0.001040</td>\n",
       "      <td>0.156057</td>\n",
       "      <td>0.160132</td>\n",
       "      <td>152.061295</td>\n",
       "      <td>1000000</td>\n",
       "      <td>bernoulli</td>\n",
       "      <td>10</td>\n",
       "      <td>0.0001</td>\n",
       "    </tr>\n",
       "    <tr>\n",
       "      <th>1</th>\n",
       "      <td>1</td>\n",
       "      <td>0.548622</td>\n",
       "      <td>0.547918</td>\n",
       "      <td>0.549325</td>\n",
       "      <td>0.000359</td>\n",
       "      <td>0.050112</td>\n",
       "      <td>0.000954</td>\n",
       "      <td>0.048242</td>\n",
       "      <td>0.051983</td>\n",
       "      <td>52.502214</td>\n",
       "      <td>1000000</td>\n",
       "      <td>gaussian</td>\n",
       "      <td>10</td>\n",
       "      <td>0.0001</td>\n",
       "    </tr>\n",
       "    <tr>\n",
       "      <th>2</th>\n",
       "      <td>2</td>\n",
       "      <td>0.045907</td>\n",
       "      <td>0.044388</td>\n",
       "      <td>0.047426</td>\n",
       "      <td>0.000775</td>\n",
       "      <td>0.036001</td>\n",
       "      <td>0.000532</td>\n",
       "      <td>0.034959</td>\n",
       "      <td>0.037043</td>\n",
       "      <td>67.706083</td>\n",
       "      <td>1000000</td>\n",
       "      <td>bernoulli</td>\n",
       "      <td>10</td>\n",
       "      <td>0.0001</td>\n",
       "    </tr>\n",
       "    <tr>\n",
       "      <th>3</th>\n",
       "      <td>2</td>\n",
       "      <td>0.574173</td>\n",
       "      <td>0.573470</td>\n",
       "      <td>0.574876</td>\n",
       "      <td>0.000359</td>\n",
       "      <td>0.074775</td>\n",
       "      <td>0.000896</td>\n",
       "      <td>0.073018</td>\n",
       "      <td>0.076532</td>\n",
       "      <td>83.420826</td>\n",
       "      <td>1000000</td>\n",
       "      <td>gaussian</td>\n",
       "      <td>10</td>\n",
       "      <td>0.0001</td>\n",
       "    </tr>\n",
       "    <tr>\n",
       "      <th>4</th>\n",
       "      <td>3</td>\n",
       "      <td>0.488971</td>\n",
       "      <td>0.487360</td>\n",
       "      <td>0.490582</td>\n",
       "      <td>0.000822</td>\n",
       "      <td>0.187501</td>\n",
       "      <td>0.001111</td>\n",
       "      <td>0.185324</td>\n",
       "      <td>0.189679</td>\n",
       "      <td>168.768915</td>\n",
       "      <td>1000000</td>\n",
       "      <td>bernoulli</td>\n",
       "      <td>10</td>\n",
       "      <td>0.0001</td>\n",
       "    </tr>\n",
       "    <tr>\n",
       "      <th>5</th>\n",
       "      <td>3</td>\n",
       "      <td>0.558944</td>\n",
       "      <td>0.558241</td>\n",
       "      <td>0.559648</td>\n",
       "      <td>0.000359</td>\n",
       "      <td>0.058855</td>\n",
       "      <td>0.000942</td>\n",
       "      <td>0.057009</td>\n",
       "      <td>0.060701</td>\n",
       "      <td>62.495104</td>\n",
       "      <td>1000000</td>\n",
       "      <td>gaussian</td>\n",
       "      <td>10</td>\n",
       "      <td>0.0001</td>\n",
       "    </tr>\n",
       "  </tbody>\n",
       "</table>\n",
       "</div>"
      ],
      "text/plain": [
       "  Run       OLS    OLS_LB    OLS_UB   std_err       DML   DML_err    DML_LB  \\\n",
       "0   1  0.340265  0.338638  0.341892  0.000830  0.158095  0.001040  0.156057   \n",
       "1   1  0.548622  0.547918  0.549325  0.000359  0.050112  0.000954  0.048242   \n",
       "2   2  0.045907  0.044388  0.047426  0.000775  0.036001  0.000532  0.034959   \n",
       "3   2  0.574173  0.573470  0.574876  0.000359  0.074775  0.000896  0.073018   \n",
       "4   3  0.488971  0.487360  0.490582  0.000822  0.187501  0.001111  0.185324   \n",
       "5   3  0.558944  0.558241  0.559648  0.000359  0.058855  0.000942  0.057009   \n",
       "\n",
       "     DML_UB  DML_t_stat num_samples distribution num_features   noise  \n",
       "0  0.160132  152.061295     1000000    bernoulli           10  0.0001  \n",
       "1  0.051983   52.502214     1000000     gaussian           10  0.0001  \n",
       "2  0.037043   67.706083     1000000    bernoulli           10  0.0001  \n",
       "3  0.076532   83.420826     1000000     gaussian           10  0.0001  \n",
       "4  0.189679  168.768915     1000000    bernoulli           10  0.0001  \n",
       "5  0.060701   62.495104     1000000     gaussian           10  0.0001  "
      ]
     },
     "execution_count": 140,
     "metadata": {},
     "output_type": "execute_result"
    }
   ],
   "source": [
    "df2[['DML','DML_err','DML_t_stat']] = df2[['DML','DML_err','DML_t_stat']].apply(lambda x: x.str[0])\n",
    "df2"
   ]
  },
  {
   "cell_type": "markdown",
   "id": "4e3561d4",
   "metadata": {},
   "source": [
    "Looks like we have the same result!"
   ]
  },
  {
   "cell_type": "code",
   "execution_count": 145,
   "id": "f60c9c51",
   "metadata": {},
   "outputs": [
    {
     "data": {
      "text/plain": [
       "Text(0.5, 1.0, '1M samples, 10 features, bernoulli Y')"
      ]
     },
     "execution_count": 145,
     "metadata": {},
     "output_type": "execute_result"
    },
    {
     "data": {
      "image/png": "[encoded data removed]",
      "text/plain": [
       "<Figure size 432x288 with 1 Axes>"
      ]
     },
     "metadata": {
      "needs_background": "light"
     },
     "output_type": "display_data"
    }
   ],
   "source": [
    "sns.kdeplot(df2.OLS, label = 'OLS')\n",
    "sns.kdeplot(df2.DML, label = 'DML', linewidth='5')\n",
    "plt.axvline(trt_effect, color = 'r', linestyle='--')\n",
    "plt.ylim(0,20)\n",
    "plt.legend()\n",
    "plt.title(\"1M samples, 10 features, bernoulli Y\")"
   ]
  },
  {
   "cell_type": "code",
   "execution_count": 1,
   "id": "8b9ad217",
   "metadata": {},
   "outputs": [
    {
     "ename": "NameError",
     "evalue": "name 'plt' is not defined",
     "output_type": "error",
     "traceback": [
      "\u001b[0;31m---------------------------------------------------------------------------\u001b[0m",
      "\u001b[0;31mNameError\u001b[0m                                 Traceback (most recent call last)",
      "\u001b[0;32m<ipython-input-1-73907e7a582b>\u001b[0m in \u001b[0;36m<module>\u001b[0;34m\u001b[0m\n\u001b[0;32m----> 1\u001b[0;31m \u001b[0mplt\u001b[0m\u001b[0;34m.\u001b[0m\u001b[0mhist\u001b[0m\u001b[0;34m(\u001b[0m\u001b[0mY\u001b[0m\u001b[0;34m)\u001b[0m\u001b[0;34m\u001b[0m\u001b[0;34m\u001b[0m\u001b[0m\n\u001b[0m",
      "\u001b[0;31mNameError\u001b[0m: name 'plt' is not defined"
     ]
    }
   ],
   "source": [
    "plt.hist(Y)"
   ]
  },
  {
   "cell_type": "markdown",
   "id": "fc51a6b0",
   "metadata": {},
   "source": [
    "Next steps: Check out box cox transformations on target variable"
   ]
  }
 ],
 "metadata": {
  "kernelspec": {
   "display_name": "conda_pytorch_p36",
   "language": "python",
   "name": "conda_pytorch_p36"
  },
  "language_info": {
   "codemirror_mode": {
    "name": "ipython",
    "version": 3
   },
   "file_extension": ".py",
   "mimetype": "text/x-python",
   "name": "python",
   "nbconvert_exporter": "python",
   "pygments_lexer": "ipython3",
   "version": "3.6.13"
  }
 },
 "nbformat": 4,
 "nbformat_minor": 5
}
