{
 "cells": [
  {
   "cell_type": "code",
   "execution_count": 2,
   "id": "bc161e03",
   "metadata": {
    "scrolled": true
   },
   "outputs": [
    {
     "name": "stdout",
     "output_type": "stream",
     "text": [
      "Collecting doubleml\n",
      "  Downloading DoubleML-0.4.0-py3-none-any.whl (115 kB)\n",
      "     |████████████████████████████████| 115 kB 8.1 MB/s            \n",
      "\u001b[?25hRequirement already satisfied: pandas in /home/ec2-user/anaconda3/envs/python3/lib/python3.6/site-packages (from doubleml) (1.1.5)\n",
      "Requirement already satisfied: scipy in /home/ec2-user/anaconda3/envs/python3/lib/python3.6/site-packages (from doubleml) (1.5.3)\n",
      "Requirement already satisfied: numpy in /home/ec2-user/anaconda3/envs/python3/lib/python3.6/site-packages (from doubleml) (1.19.5)\n",
      "Requirement already satisfied: statsmodels in /home/ec2-user/anaconda3/envs/python3/lib/python3.6/site-packages (from doubleml) (0.12.2)\n",
      "Requirement already satisfied: joblib in /home/ec2-user/anaconda3/envs/python3/lib/python3.6/site-packages (from doubleml) (1.0.1)\n",
      "Requirement already satisfied: sklearn in /home/ec2-user/anaconda3/envs/python3/lib/python3.6/site-packages (from doubleml) (0.0)\n",
      "Requirement already satisfied: python-dateutil>=2.7.3 in /home/ec2-user/anaconda3/envs/python3/lib/python3.6/site-packages (from pandas->doubleml) (2.8.1)\n",
      "Requirement already satisfied: pytz>=2017.2 in /home/ec2-user/anaconda3/envs/python3/lib/python3.6/site-packages (from pandas->doubleml) (2021.1)\n",
      "Requirement already satisfied: scikit-learn in /home/ec2-user/anaconda3/envs/python3/lib/python3.6/site-packages (from sklearn->doubleml) (0.24.1)\n",
      "Requirement already satisfied: patsy>=0.5 in /home/ec2-user/anaconda3/envs/python3/lib/python3.6/site-packages (from statsmodels->doubleml) (0.5.1)\n",
      "Requirement already satisfied: six in /home/ec2-user/anaconda3/envs/python3/lib/python3.6/site-packages (from patsy>=0.5->statsmodels->doubleml) (1.15.0)\n",
      "Requirement already satisfied: threadpoolctl>=2.0.0 in /home/ec2-user/anaconda3/envs/python3/lib/python3.6/site-packages (from scikit-learn->sklearn->doubleml) (2.1.0)\n",
      "Installing collected packages: doubleml\n",
      "Successfully installed doubleml-0.4.0\n",
      "Note: you may need to restart the kernel to use updated packages.\n"
     ]
    }
   ],
   "source": [
    "pip install doubleml"
   ]
  },
  {
   "cell_type": "code",
   "execution_count": 69,
   "id": "f191ea09",
   "metadata": {},
   "outputs": [],
   "source": [
    "import numpy as np\n",
    "from scipy import stats\n",
    "from scipy.stats import bernoulli\n",
    "import pandas as pd\n",
    "import statsmodels.api as sm\n",
    "from sklearn.ensemble import RandomForestRegressor\n",
    "from sklearn.ensemble import RandomForestClassifier\n",
    "import seaborn as sns\n",
    "import matplotlib.pyplot as plt\n",
    "from doubleml import DoubleMLData\n",
    "from doubleml import DoubleMLPLR"
   ]
  },
  {
   "cell_type": "markdown",
   "id": "0374b481",
   "metadata": {},
   "source": [
    "# simple simulation to ensure data generation is working"
   ]
  },
  {
   "cell_type": "code",
   "execution_count": 70,
   "id": "9db84923",
   "metadata": {},
   "outputs": [
    {
     "data": {
      "text/plain": [
       "array([[ 1.        , -0.73179837,  1.03372177,  0.33728601],\n",
       "       [ 1.        ,  1.07246286,  1.94706036,  2.07384913],\n",
       "       [ 1.        , -0.17317872,  0.54318994, -0.10368289],\n",
       "       [ 1.        , -0.97418801,  0.3628086 ,  0.7987302 ],\n",
       "       [ 1.        , -2.07416472, -0.2682612 ,  0.85259863]])"
      ]
     },
     "execution_count": 70,
     "metadata": {},
     "output_type": "execute_result"
    }
   ],
   "source": [
    "n_samples = 1000000\n",
    "n_features = 3\n",
    "treatment_prob = 0.9\n",
    "trt_effect = 0.5\n",
    "\n",
    "x = np.random.randn(n_samples, n_features)\n",
    "D =  bernoulli.rvs(p = treatment_prob,size=n_samples) # treatment var\n",
    "dx = np.column_stack((D,x))\n",
    "dx[:5]"
   ]
  },
  {
   "cell_type": "code",
   "execution_count": 71,
   "id": "1ef5086b",
   "metadata": {},
   "outputs": [
    {
     "name": "stdout",
     "output_type": "stream",
     "text": [
      "[ 0.5        -1.10299573 -0.73572172 -0.05051984]\n",
      "                                 OLS Regression Results                                \n",
      "=======================================================================================\n",
      "Dep. Variable:                      y   R-squared (uncentered):                   0.982\n",
      "Model:                            OLS   Adj. R-squared (uncentered):              0.982\n",
      "Method:                 Least Squares   F-statistic:                          1.367e+07\n",
      "Date:                Fri, 17 Dec 2021   Prob (F-statistic):                        0.00\n",
      "Time:                        15:07:22   Log-Likelihood:                         -1473.4\n",
      "No. Observations:             1000000   AIC:                                      2955.\n",
      "Df Residuals:                  999996   BIC:                                      3002.\n",
      "Df Model:                           4                                                  \n",
      "Covariance Type:            nonrobust                                                  \n",
      "==============================================================================\n",
      "                 coef    std err          t      P>|t|      [0.025      0.975]\n",
      "------------------------------------------------------------------------------\n",
      "x1             1.2667      0.000   4959.216      0.000       1.266       1.267\n",
      "x2            -1.1030      0.000  -4548.134      0.000      -1.104      -1.103\n",
      "x3            -0.7355      0.000  -3035.453      0.000      -0.736      -0.735\n",
      "x4            -0.0508      0.000   -209.769      0.000      -0.051      -0.050\n",
      "==============================================================================\n",
      "Omnibus:                   512583.998   Durbin-Watson:                   1.802\n",
      "Prob(Omnibus):                  0.000   Jarque-Bera (JB):          2279563.132\n",
      "Skew:                           2.669   Prob(JB):                         0.00\n",
      "Kurtosis:                       8.121   Cond. No.                         1.05\n",
      "==============================================================================\n",
      "\n",
      "Notes:\n",
      "[1] R² is computed without centering (uncentered) since the model does not contain a constant.\n",
      "[2] Standard Errors assume that the covariance matrix of the errors is correctly specified.\n"
     ]
    }
   ],
   "source": [
    "weights = np.append(trt_effect,stats.norm.rvs(0, 1, size = n_features))\n",
    "print(weights)\n",
    "Y = np.dot(dx,weights.T) + np.random.rand()\n",
    "model = sm.OLS(Y, dx)\n",
    "results = model.fit()\n",
    "print(results.summary())"
   ]
  },
  {
   "cell_type": "code",
   "execution_count": 72,
   "id": "66937942",
   "metadata": {},
   "outputs": [],
   "source": [
    "resultsdf = pd.DataFrame()\n",
    "\n",
    "for i in range(10):\n",
    "    n_samples = 1000000\n",
    "    n_features = 3\n",
    "    treatment_prob = 0.9\n",
    "    trt_effect = 0.5\n",
    "    x = np.random.randn(n_samples, n_features)\n",
    "    D =  bernoulli.rvs(p = treatment_prob,size=n_samples) # treatment var\n",
    "    dx = np.column_stack((D,x))\n",
    "    weights = np.append(trt_effect,stats.norm.rvs(0, 1, size = n_features))\n",
    "    Y = np.dot(dx,weights.T) + np.random.rand()\n",
    "    model = sm.OLS(Y, dx)\n",
    "    results = model.fit()\n",
    "    temp_df = pd.DataFrame({'coef': results.params[0],'CI_L':results.conf_int()[0][0],'CI_U':results.conf_int()[0][1],'bse0': results.bse[0], 'bse1': results.bse[1],'bse2':results.bse[2],'bse3':results.bse[3]}, index = [i])\n",
    "    resultsdf = resultsdf.append(temp_df)"
   ]
  },
  {
   "cell_type": "code",
   "execution_count": 73,
   "id": "460c4ad4",
   "metadata": {},
   "outputs": [
    {
     "data": {
      "text/html": [
       "<div>\n",
       "<style scoped>\n",
       "    .dataframe tbody tr th:only-of-type {\n",
       "        vertical-align: middle;\n",
       "    }\n",
       "\n",
       "    .dataframe tbody tr th {\n",
       "        vertical-align: top;\n",
       "    }\n",
       "\n",
       "    .dataframe thead th {\n",
       "        text-align: right;\n",
       "    }\n",
       "</style>\n",
       "<table border=\"1\" class=\"dataframe\">\n",
       "  <thead>\n",
       "    <tr style=\"text-align: right;\">\n",
       "      <th></th>\n",
       "      <th>coef</th>\n",
       "      <th>CI_L</th>\n",
       "      <th>CI_U</th>\n",
       "      <th>bse0</th>\n",
       "      <th>bse1</th>\n",
       "      <th>bse2</th>\n",
       "      <th>bse3</th>\n",
       "    </tr>\n",
       "  </thead>\n",
       "  <tbody>\n",
       "    <tr>\n",
       "      <th>0</th>\n",
       "      <td>0.963019</td>\n",
       "      <td>0.962717</td>\n",
       "      <td>0.963321</td>\n",
       "      <td>0.000154</td>\n",
       "      <td>0.000146</td>\n",
       "      <td>0.000146</td>\n",
       "      <td>0.000146</td>\n",
       "    </tr>\n",
       "    <tr>\n",
       "      <th>1</th>\n",
       "      <td>1.471062</td>\n",
       "      <td>1.470427</td>\n",
       "      <td>1.471696</td>\n",
       "      <td>0.000324</td>\n",
       "      <td>0.000307</td>\n",
       "      <td>0.000307</td>\n",
       "      <td>0.000307</td>\n",
       "    </tr>\n",
       "    <tr>\n",
       "      <th>2</th>\n",
       "      <td>0.889366</td>\n",
       "      <td>0.889111</td>\n",
       "      <td>0.889620</td>\n",
       "      <td>0.000130</td>\n",
       "      <td>0.000123</td>\n",
       "      <td>0.000123</td>\n",
       "      <td>0.000123</td>\n",
       "    </tr>\n",
       "    <tr>\n",
       "      <th>3</th>\n",
       "      <td>0.998406</td>\n",
       "      <td>0.998080</td>\n",
       "      <td>0.998731</td>\n",
       "      <td>0.000166</td>\n",
       "      <td>0.000157</td>\n",
       "      <td>0.000158</td>\n",
       "      <td>0.000157</td>\n",
       "    </tr>\n",
       "    <tr>\n",
       "      <th>4</th>\n",
       "      <td>0.619916</td>\n",
       "      <td>0.619838</td>\n",
       "      <td>0.619995</td>\n",
       "      <td>0.000040</td>\n",
       "      <td>0.000038</td>\n",
       "      <td>0.000038</td>\n",
       "      <td>0.000038</td>\n",
       "    </tr>\n",
       "    <tr>\n",
       "      <th>5</th>\n",
       "      <td>0.507892</td>\n",
       "      <td>0.507887</td>\n",
       "      <td>0.507898</td>\n",
       "      <td>0.000003</td>\n",
       "      <td>0.000003</td>\n",
       "      <td>0.000002</td>\n",
       "      <td>0.000002</td>\n",
       "    </tr>\n",
       "    <tr>\n",
       "      <th>6</th>\n",
       "      <td>0.650177</td>\n",
       "      <td>0.650079</td>\n",
       "      <td>0.650275</td>\n",
       "      <td>0.000050</td>\n",
       "      <td>0.000048</td>\n",
       "      <td>0.000048</td>\n",
       "      <td>0.000047</td>\n",
       "    </tr>\n",
       "    <tr>\n",
       "      <th>7</th>\n",
       "      <td>0.985342</td>\n",
       "      <td>0.985026</td>\n",
       "      <td>0.985659</td>\n",
       "      <td>0.000161</td>\n",
       "      <td>0.000153</td>\n",
       "      <td>0.000153</td>\n",
       "      <td>0.000153</td>\n",
       "    </tr>\n",
       "    <tr>\n",
       "      <th>8</th>\n",
       "      <td>0.851392</td>\n",
       "      <td>0.851162</td>\n",
       "      <td>0.851622</td>\n",
       "      <td>0.000117</td>\n",
       "      <td>0.000111</td>\n",
       "      <td>0.000111</td>\n",
       "      <td>0.000111</td>\n",
       "    </tr>\n",
       "    <tr>\n",
       "      <th>9</th>\n",
       "      <td>1.364377</td>\n",
       "      <td>1.363813</td>\n",
       "      <td>1.364941</td>\n",
       "      <td>0.000288</td>\n",
       "      <td>0.000273</td>\n",
       "      <td>0.000273</td>\n",
       "      <td>0.000273</td>\n",
       "    </tr>\n",
       "  </tbody>\n",
       "</table>\n",
       "</div>"
      ],
      "text/plain": [
       "       coef      CI_L      CI_U      bse0      bse1      bse2      bse3\n",
       "0  0.963019  0.962717  0.963321  0.000154  0.000146  0.000146  0.000146\n",
       "1  1.471062  1.470427  1.471696  0.000324  0.000307  0.000307  0.000307\n",
       "2  0.889366  0.889111  0.889620  0.000130  0.000123  0.000123  0.000123\n",
       "3  0.998406  0.998080  0.998731  0.000166  0.000157  0.000158  0.000157\n",
       "4  0.619916  0.619838  0.619995  0.000040  0.000038  0.000038  0.000038\n",
       "5  0.507892  0.507887  0.507898  0.000003  0.000003  0.000002  0.000002\n",
       "6  0.650177  0.650079  0.650275  0.000050  0.000048  0.000048  0.000047\n",
       "7  0.985342  0.985026  0.985659  0.000161  0.000153  0.000153  0.000153\n",
       "8  0.851392  0.851162  0.851622  0.000117  0.000111  0.000111  0.000111\n",
       "9  1.364377  1.363813  1.364941  0.000288  0.000273  0.000273  0.000273"
      ]
     },
     "execution_count": 73,
     "metadata": {},
     "output_type": "execute_result"
    }
   ],
   "source": [
    "resultsdf"
   ]
  },
  {
   "cell_type": "code",
   "execution_count": 77,
   "id": "ecced741",
   "metadata": {},
   "outputs": [
    {
     "data": {
      "text/plain": [
       "<matplotlib.lines.Line2D at 0x7faea2d462e8>"
      ]
     },
     "execution_count": 77,
     "metadata": {},
     "output_type": "execute_result"
    },
    {
     "data": {
      "image/png": "[encoded data removed]",
      "text/plain": [
       "<Figure size 432x288 with 1 Axes>"
      ]
     },
     "metadata": {
      "needs_background": "light"
     },
     "output_type": "display_data"
    }
   ],
   "source": [
    "sns.kdeplot(resultsdf.coef)\n",
    "plt.axvline(resultsdf.coef.mean())\n",
    "plt.axvline(trt_effect, color = 'r', linestyle='--')"
   ]
  },
  {
   "cell_type": "markdown",
   "id": "df7eb30f",
   "metadata": {},
   "source": [
    "## adding colinearity"
   ]
  },
  {
   "cell_type": "markdown",
   "id": "f160e33d",
   "metadata": {},
   "source": [
    "Generate same data but add a copy of the last column. Duplicate this along with the weights and check VIF"
   ]
  },
  {
   "cell_type": "code",
   "execution_count": 130,
   "id": "14b2730c",
   "metadata": {},
   "outputs": [
    {
     "data": {
      "text/plain": [
       "array([[ 1.        ,  0.7037551 ,  0.6531598 ,  0.18647645,  0.18647645],\n",
       "       [ 1.        , -0.55968596, -1.01748581, -0.5080576 , -0.5080576 ],\n",
       "       [ 0.        , -0.05358517, -0.04192262, -0.70847158, -0.70847158],\n",
       "       [ 0.        , -1.2691044 ,  1.04554665, -0.6399689 , -0.6399689 ],\n",
       "       [ 1.        ,  0.31384431,  0.93674306, -0.28516928, -0.28516928],\n",
       "       [ 1.        ,  1.46063587,  0.9869714 ,  0.09232227,  0.09232227],\n",
       "       [ 1.        , -0.86031112,  1.56889366,  0.63020583,  0.63020583],\n",
       "       [ 1.        , -0.3765259 ,  0.73643475,  0.38488306,  0.38488306],\n",
       "       [ 1.        ,  1.3859589 , -0.11903856, -0.21479519, -0.21479519],\n",
       "       [ 0.        ,  0.90046958, -0.26814985, -0.66476813, -0.66476813]])"
      ]
     },
     "execution_count": 130,
     "metadata": {},
     "output_type": "execute_result"
    }
   ],
   "source": [
    "n_samples = 1000\n",
    "n_features = 3\n",
    "treatment_prob = 0.9\n",
    "trt_effect = 0.5\n",
    "\n",
    "x = np.random.randn(n_samples, n_features)\n",
    "D =  bernoulli.rvs(p = treatment_prob,size=n_samples) # treatment var\n",
    "\n",
    "#copy last feature\n",
    "dx = np.column_stack((D,x,x[:,-1]))\n",
    "\n",
    "#dx = np.column_stack((D,x,D)) #copy D\n",
    "dx[:10]"
   ]
  },
  {
   "cell_type": "code",
   "execution_count": 45,
   "id": "028ce901",
   "metadata": {},
   "outputs": [
    {
     "name": "stderr",
     "output_type": "stream",
     "text": [
      "/home/ec2-user/anaconda3/envs/python3/lib/python3.6/site-packages/statsmodels/stats/outliers_influence.py:193: RuntimeWarning: divide by zero encountered in double_scalars\n",
      "  vif = 1. / (1. - r_squared_i)\n"
     ]
    },
    {
     "data": {
      "text/html": [
       "<div>\n",
       "<style scoped>\n",
       "    .dataframe tbody tr th:only-of-type {\n",
       "        vertical-align: middle;\n",
       "    }\n",
       "\n",
       "    .dataframe tbody tr th {\n",
       "        vertical-align: top;\n",
       "    }\n",
       "\n",
       "    .dataframe thead th {\n",
       "        text-align: right;\n",
       "    }\n",
       "</style>\n",
       "<table border=\"1\" class=\"dataframe\">\n",
       "  <thead>\n",
       "    <tr style=\"text-align: right;\">\n",
       "      <th></th>\n",
       "      <th>variables</th>\n",
       "      <th>VIF</th>\n",
       "    </tr>\n",
       "  </thead>\n",
       "  <tbody>\n",
       "    <tr>\n",
       "      <th>0</th>\n",
       "      <td>intercept</td>\n",
       "      <td>1.003285</td>\n",
       "    </tr>\n",
       "    <tr>\n",
       "      <th>1</th>\n",
       "      <td>x1</td>\n",
       "      <td>1.002945</td>\n",
       "    </tr>\n",
       "    <tr>\n",
       "      <th>2</th>\n",
       "      <td>x2</td>\n",
       "      <td>1.000742</td>\n",
       "    </tr>\n",
       "    <tr>\n",
       "      <th>3</th>\n",
       "      <td>x3</td>\n",
       "      <td>inf</td>\n",
       "    </tr>\n",
       "    <tr>\n",
       "      <th>4</th>\n",
       "      <td>x3+2</td>\n",
       "      <td>inf</td>\n",
       "    </tr>\n",
       "  </tbody>\n",
       "</table>\n",
       "</div>"
      ],
      "text/plain": [
       "   variables       VIF\n",
       "0  intercept  1.003285\n",
       "1         x1  1.002945\n",
       "2         x2  1.000742\n",
       "3         x3       inf\n",
       "4       x3+2       inf"
      ]
     },
     "execution_count": 45,
     "metadata": {},
     "output_type": "execute_result"
    }
   ],
   "source": [
    "from statsmodels.stats.outliers_influence import variance_inflation_factor\n",
    "\n",
    "dx_df = pd.DataFrame(dx, columns = [\"intercept\",\"x1\",\"x2\",\"x3\",\"x3+2\"])\n",
    "\n",
    "vif = pd.DataFrame()\n",
    "vif[\"variables\"] = dx_df.columns\n",
    "vif[\"VIF\"] = [variance_inflation_factor(dx_df.values, i) for i in range(dx_df.shape[1])]\n",
    "vif"
   ]
  },
  {
   "cell_type": "code",
   "execution_count": 55,
   "id": "d3a61a96",
   "metadata": {},
   "outputs": [
    {
     "name": "stdout",
     "output_type": "stream",
     "text": [
      "[ 0.5        -0.59511631 -0.39938747  1.00550115  1.00550115]\n",
      "                                 OLS Regression Results                                \n",
      "=======================================================================================\n",
      "Dep. Variable:                      y   R-squared (uncentered):                   0.987\n",
      "Model:                            OLS   Adj. R-squared (uncentered):              0.987\n",
      "Method:                 Least Squares   F-statistic:                          1.476e+07\n",
      "Date:                Fri, 17 Dec 2021   Prob (F-statistic):                        0.00\n",
      "Time:                        14:54:38   Log-Likelihood:                     -2.4736e+05\n",
      "No. Observations:             1000000   AIC:                                  4.947e+05\n",
      "Df Residuals:                  999995   BIC:                                  4.948e+05\n",
      "Df Model:                           5                                                  \n",
      "Covariance Type:            nonrobust                                                  \n",
      "==============================================================================\n",
      "                 coef    std err          t      P>|t|      [0.025      0.975]\n",
      "------------------------------------------------------------------------------\n",
      "x1          1.371e+11   4.34e+10      3.158      0.002     5.2e+10    2.22e+11\n",
      "x2            -0.5950      0.000  -1918.488      0.000      -0.596      -0.594\n",
      "x3            -0.3999      0.000  -1290.815      0.000      -0.401      -0.399\n",
      "x4             1.0057      0.000   3243.075      0.000       1.005       1.006\n",
      "x5         -1.371e+11   4.34e+10     -3.158      0.002   -2.22e+11    -5.2e+10\n",
      "==============================================================================\n",
      "Omnibus:                   510987.307   Durbin-Watson:                   1.797\n",
      "Prob(Omnibus):                  0.000   Jarque-Bera (JB):          2258600.477\n",
      "Skew:                           2.662   Prob(JB):                         0.00\n",
      "Kurtosis:                       8.086   Cond. No.                     2.66e+14\n",
      "==============================================================================\n",
      "\n",
      "Notes:\n",
      "[1] R² is computed without centering (uncentered) since the model does not contain a constant.\n",
      "[2] Standard Errors assume that the covariance matrix of the errors is correctly specified.\n",
      "[3] The smallest eigenvalue is 2.55e-23. This might indicate that there are\n",
      "strong multicollinearity problems or that the design matrix is singular.\n"
     ]
    }
   ],
   "source": [
    "weights =  np.append(trt_effect, stats.norm.rvs(0, 1, size = n_features)) # +1 due to the duplicated feature\n",
    "weights = np.append(weights,weights[-1]) #add duplicate weight for duplicate feature\n",
    "print(weights)\n",
    "\n",
    "Y = np.dot(dx,weights.T) + np.random.rand()\n",
    "\n",
    "model = sm.OLS(Y, dx)\n",
    "results = model.fit()\n",
    "print(results.summary())"
   ]
  },
  {
   "cell_type": "markdown",
   "id": "20ac386c",
   "metadata": {},
   "source": [
    "Sanity check complete. Standard error increased. Function working ok!"
   ]
  },
  {
   "cell_type": "code",
   "execution_count": 78,
   "id": "c9a5cce2",
   "metadata": {},
   "outputs": [],
   "source": [
    "resultsdf = pd.DataFrame()\n",
    "\n",
    "for i in range(10):\n",
    "    n_samples = 1000000\n",
    "    n_features = 3\n",
    "    treatment_prob = 0.9\n",
    "    trt_effect = 0.5\n",
    "    x = np.random.randn(n_samples, n_features)\n",
    "    D =  bernoulli.rvs(p = treatment_prob,size=n_samples) # treatment var\n",
    "    dx = np.column_stack((D,x,x[:,2]))\n",
    "    weights = np.append(trt_effect,stats.norm.rvs(0, 1, size = n_features))\n",
    "    weights = np.append(weights,weights[-1]) #add duplicate weight for duplicate feature\n",
    "    Y = np.dot(dx,weights.T) + np.random.rand()\n",
    "    model = sm.OLS(Y, dx)\n",
    "    results = model.fit()\n",
    "    temp_df = pd.DataFrame({'coef': results.params[0],'CI_L':results.conf_int()[0][0],'CI_U':results.conf_int()[0][1],'bse0': results.bse[0], 'bse1': results.bse[1],'bse2':results.bse[2],'bse3':results.bse[3],'bse4':results.bse[4]}, index = [i])\n",
    "    resultsdf = resultsdf.append(temp_df)"
   ]
  },
  {
   "cell_type": "code",
   "execution_count": 79,
   "id": "5e439c1c",
   "metadata": {},
   "outputs": [
    {
     "data": {
      "text/html": [
       "<div>\n",
       "<style scoped>\n",
       "    .dataframe tbody tr th:only-of-type {\n",
       "        vertical-align: middle;\n",
       "    }\n",
       "\n",
       "    .dataframe tbody tr th {\n",
       "        vertical-align: top;\n",
       "    }\n",
       "\n",
       "    .dataframe thead th {\n",
       "        text-align: right;\n",
       "    }\n",
       "</style>\n",
       "<table border=\"1\" class=\"dataframe\">\n",
       "  <thead>\n",
       "    <tr style=\"text-align: right;\">\n",
       "      <th></th>\n",
       "      <th>coef</th>\n",
       "      <th>CI_L</th>\n",
       "      <th>CI_U</th>\n",
       "      <th>bse0</th>\n",
       "      <th>bse1</th>\n",
       "      <th>bse2</th>\n",
       "      <th>bse3</th>\n",
       "      <th>bse4</th>\n",
       "    </tr>\n",
       "  </thead>\n",
       "  <tbody>\n",
       "    <tr>\n",
       "      <th>0</th>\n",
       "      <td>1.235937</td>\n",
       "      <td>1.235457</td>\n",
       "      <td>1.236416</td>\n",
       "      <td>0.000245</td>\n",
       "      <td>0.000232</td>\n",
       "      <td>0.000232</td>\n",
       "      <td>0.000116</td>\n",
       "      <td>0.000116</td>\n",
       "    </tr>\n",
       "    <tr>\n",
       "      <th>1</th>\n",
       "      <td>0.658209</td>\n",
       "      <td>0.658105</td>\n",
       "      <td>0.658312</td>\n",
       "      <td>0.000053</td>\n",
       "      <td>0.000050</td>\n",
       "      <td>0.000050</td>\n",
       "      <td>0.000025</td>\n",
       "      <td>0.000025</td>\n",
       "    </tr>\n",
       "    <tr>\n",
       "      <th>2</th>\n",
       "      <td>0.908872</td>\n",
       "      <td>0.908605</td>\n",
       "      <td>0.909138</td>\n",
       "      <td>0.000136</td>\n",
       "      <td>0.000129</td>\n",
       "      <td>0.000129</td>\n",
       "      <td>0.000065</td>\n",
       "      <td>0.000065</td>\n",
       "    </tr>\n",
       "    <tr>\n",
       "      <th>3</th>\n",
       "      <td>1.042174</td>\n",
       "      <td>1.041821</td>\n",
       "      <td>1.042527</td>\n",
       "      <td>0.000180</td>\n",
       "      <td>0.000171</td>\n",
       "      <td>0.000171</td>\n",
       "      <td>0.000085</td>\n",
       "      <td>0.000085</td>\n",
       "    </tr>\n",
       "    <tr>\n",
       "      <th>4</th>\n",
       "      <td>1.362958</td>\n",
       "      <td>1.362393</td>\n",
       "      <td>1.363523</td>\n",
       "      <td>0.000288</td>\n",
       "      <td>0.000274</td>\n",
       "      <td>0.000274</td>\n",
       "      <td>0.000137</td>\n",
       "      <td>0.000137</td>\n",
       "    </tr>\n",
       "    <tr>\n",
       "      <th>5</th>\n",
       "      <td>1.241818</td>\n",
       "      <td>1.241336</td>\n",
       "      <td>1.242301</td>\n",
       "      <td>0.000246</td>\n",
       "      <td>0.000234</td>\n",
       "      <td>0.000234</td>\n",
       "      <td>0.000117</td>\n",
       "      <td>0.000117</td>\n",
       "    </tr>\n",
       "    <tr>\n",
       "      <th>6</th>\n",
       "      <td>0.641636</td>\n",
       "      <td>0.641544</td>\n",
       "      <td>0.641729</td>\n",
       "      <td>0.000047</td>\n",
       "      <td>0.000045</td>\n",
       "      <td>0.000045</td>\n",
       "      <td>0.000022</td>\n",
       "      <td>0.000022</td>\n",
       "    </tr>\n",
       "    <tr>\n",
       "      <th>7</th>\n",
       "      <td>1.412429</td>\n",
       "      <td>1.411833</td>\n",
       "      <td>1.413026</td>\n",
       "      <td>0.000304</td>\n",
       "      <td>0.000289</td>\n",
       "      <td>0.000289</td>\n",
       "      <td>0.000144</td>\n",
       "      <td>0.000144</td>\n",
       "    </tr>\n",
       "    <tr>\n",
       "      <th>8</th>\n",
       "      <td>0.774242</td>\n",
       "      <td>0.774063</td>\n",
       "      <td>0.774421</td>\n",
       "      <td>0.000091</td>\n",
       "      <td>0.000087</td>\n",
       "      <td>0.000087</td>\n",
       "      <td>0.000043</td>\n",
       "      <td>0.000043</td>\n",
       "    </tr>\n",
       "    <tr>\n",
       "      <th>9</th>\n",
       "      <td>0.738168</td>\n",
       "      <td>0.738013</td>\n",
       "      <td>0.738323</td>\n",
       "      <td>0.000079</td>\n",
       "      <td>0.000075</td>\n",
       "      <td>0.000075</td>\n",
       "      <td>0.000038</td>\n",
       "      <td>0.000038</td>\n",
       "    </tr>\n",
       "  </tbody>\n",
       "</table>\n",
       "</div>"
      ],
      "text/plain": [
       "       coef      CI_L      CI_U      bse0      bse1      bse2      bse3  \\\n",
       "0  1.235937  1.235457  1.236416  0.000245  0.000232  0.000232  0.000116   \n",
       "1  0.658209  0.658105  0.658312  0.000053  0.000050  0.000050  0.000025   \n",
       "2  0.908872  0.908605  0.909138  0.000136  0.000129  0.000129  0.000065   \n",
       "3  1.042174  1.041821  1.042527  0.000180  0.000171  0.000171  0.000085   \n",
       "4  1.362958  1.362393  1.363523  0.000288  0.000274  0.000274  0.000137   \n",
       "5  1.241818  1.241336  1.242301  0.000246  0.000234  0.000234  0.000117   \n",
       "6  0.641636  0.641544  0.641729  0.000047  0.000045  0.000045  0.000022   \n",
       "7  1.412429  1.411833  1.413026  0.000304  0.000289  0.000289  0.000144   \n",
       "8  0.774242  0.774063  0.774421  0.000091  0.000087  0.000087  0.000043   \n",
       "9  0.738168  0.738013  0.738323  0.000079  0.000075  0.000075  0.000038   \n",
       "\n",
       "       bse4  \n",
       "0  0.000116  \n",
       "1  0.000025  \n",
       "2  0.000065  \n",
       "3  0.000085  \n",
       "4  0.000137  \n",
       "5  0.000117  \n",
       "6  0.000022  \n",
       "7  0.000144  \n",
       "8  0.000043  \n",
       "9  0.000038  "
      ]
     },
     "execution_count": 79,
     "metadata": {},
     "output_type": "execute_result"
    }
   ],
   "source": [
    "resultsdf"
   ]
  },
  {
   "cell_type": "code",
   "execution_count": 81,
   "id": "1f8b2da5",
   "metadata": {},
   "outputs": [
    {
     "data": {
      "text/plain": [
       "<matplotlib.lines.Line2D at 0x7faf2d320048>"
      ]
     },
     "execution_count": 81,
     "metadata": {},
     "output_type": "execute_result"
    },
    {
     "data": {
      "image/png": "[encoded data removed]",
      "text/plain": [
       "<Figure size 432x288 with 1 Axes>"
      ]
     },
     "metadata": {
      "needs_background": "light"
     },
     "output_type": "display_data"
    }
   ],
   "source": [
    "sns.kdeplot(resultsdf.coef)\n",
    "plt.axvline(resultsdf.coef.mean())\n",
    "plt.axvline(trt_effect, color = 'r', linestyle='--')"
   ]
  },
  {
   "cell_type": "markdown",
   "id": "1a0638cf",
   "metadata": {},
   "source": [
    "## colinearity with the treatment variable"
   ]
  },
  {
   "cell_type": "code",
   "execution_count": 82,
   "id": "62e42293",
   "metadata": {},
   "outputs": [],
   "source": [
    "resultsdf = pd.DataFrame()\n",
    "\n",
    "for i in range(10):\n",
    "    n_samples = 1000000\n",
    "    n_features = 3\n",
    "    treatment_prob = 0.9\n",
    "    trt_effect = 0.5\n",
    "    x = np.random.randn(n_samples, n_features)\n",
    "    D =  bernoulli.rvs(p = treatment_prob,size=n_samples) # treatment var\n",
    "    dx = np.column_stack((D,x,D))\n",
    "    weights = np.append(trt_effect,stats.norm.rvs(0, 1, size = n_features)) #\n",
    "    weights = np.append(weights,trt_effect)\n",
    "    Y = np.dot(dx,weights.T) + np.random.rand()\n",
    "    model = sm.OLS(Y, dx)\n",
    "    results = model.fit()\n",
    "    temp_df = pd.DataFrame({'coef': results.params[0],'CI_L':results.conf_int()[0][0],'CI_U':results.conf_int()[0][1],'bse0': results.bse[0], 'bse1': results.bse[1],'bse2':results.bse[2],'bse3':results.bse[3],'bse4':results.bse[4]}, index = [i])\n",
    "    resultsdf = resultsdf.append(temp_df)"
   ]
  },
  {
   "cell_type": "code",
   "execution_count": 83,
   "id": "ef63d49f",
   "metadata": {},
   "outputs": [
    {
     "data": {
      "text/html": [
       "<div>\n",
       "<style scoped>\n",
       "    .dataframe tbody tr th:only-of-type {\n",
       "        vertical-align: middle;\n",
       "    }\n",
       "\n",
       "    .dataframe tbody tr th {\n",
       "        vertical-align: top;\n",
       "    }\n",
       "\n",
       "    .dataframe thead th {\n",
       "        text-align: right;\n",
       "    }\n",
       "</style>\n",
       "<table border=\"1\" class=\"dataframe\">\n",
       "  <thead>\n",
       "    <tr style=\"text-align: right;\">\n",
       "      <th></th>\n",
       "      <th>coef</th>\n",
       "      <th>CI_L</th>\n",
       "      <th>CI_U</th>\n",
       "      <th>bse0</th>\n",
       "      <th>bse1</th>\n",
       "      <th>bse2</th>\n",
       "      <th>bse3</th>\n",
       "      <th>bse4</th>\n",
       "    </tr>\n",
       "  </thead>\n",
       "  <tbody>\n",
       "    <tr>\n",
       "      <th>0</th>\n",
       "      <td>4.506733e+06</td>\n",
       "      <td>-3.081435e+09</td>\n",
       "      <td>3.090449e+09</td>\n",
       "      <td>1.574487e+09</td>\n",
       "      <td>0.000012</td>\n",
       "      <td>0.000012</td>\n",
       "      <td>0.000012</td>\n",
       "      <td>1.574487e+09</td>\n",
       "    </tr>\n",
       "    <tr>\n",
       "      <th>1</th>\n",
       "      <td>-1.610010e+11</td>\n",
       "      <td>-2.610642e+11</td>\n",
       "      <td>-6.093789e+10</td>\n",
       "      <td>5.105350e+10</td>\n",
       "      <td>0.000271</td>\n",
       "      <td>0.000271</td>\n",
       "      <td>0.000271</td>\n",
       "      <td>5.105350e+10</td>\n",
       "    </tr>\n",
       "    <tr>\n",
       "      <th>2</th>\n",
       "      <td>-2.909637e+07</td>\n",
       "      <td>-6.101393e+10</td>\n",
       "      <td>6.095574e+10</td>\n",
       "      <td>3.111525e+10</td>\n",
       "      <td>0.000076</td>\n",
       "      <td>0.000076</td>\n",
       "      <td>0.000076</td>\n",
       "      <td>3.111525e+10</td>\n",
       "    </tr>\n",
       "    <tr>\n",
       "      <th>3</th>\n",
       "      <td>9.988702e+06</td>\n",
       "      <td>-4.505592e+10</td>\n",
       "      <td>4.507590e+10</td>\n",
       "      <td>2.299321e+10</td>\n",
       "      <td>0.000190</td>\n",
       "      <td>0.000190</td>\n",
       "      <td>0.000190</td>\n",
       "      <td>2.299321e+10</td>\n",
       "    </tr>\n",
       "    <tr>\n",
       "      <th>4</th>\n",
       "      <td>-1.384082e+06</td>\n",
       "      <td>-2.950196e+09</td>\n",
       "      <td>2.947428e+09</td>\n",
       "      <td>1.504522e+09</td>\n",
       "      <td>0.000017</td>\n",
       "      <td>0.000017</td>\n",
       "      <td>0.000017</td>\n",
       "      <td>1.504522e+09</td>\n",
       "    </tr>\n",
       "    <tr>\n",
       "      <th>5</th>\n",
       "      <td>2.589995e+07</td>\n",
       "      <td>-5.309740e+10</td>\n",
       "      <td>5.314920e+10</td>\n",
       "      <td>2.710419e+10</td>\n",
       "      <td>0.000285</td>\n",
       "      <td>0.000285</td>\n",
       "      <td>0.000285</td>\n",
       "      <td>2.710419e+10</td>\n",
       "    </tr>\n",
       "    <tr>\n",
       "      <th>6</th>\n",
       "      <td>2.643272e+07</td>\n",
       "      <td>-4.151198e+10</td>\n",
       "      <td>4.156485e+10</td>\n",
       "      <td>2.119343e+10</td>\n",
       "      <td>0.000239</td>\n",
       "      <td>0.000239</td>\n",
       "      <td>0.000239</td>\n",
       "      <td>2.119343e+10</td>\n",
       "    </tr>\n",
       "    <tr>\n",
       "      <th>7</th>\n",
       "      <td>-1.156945e+06</td>\n",
       "      <td>-4.804183e+10</td>\n",
       "      <td>4.803951e+10</td>\n",
       "      <td>2.451097e+10</td>\n",
       "      <td>0.000253</td>\n",
       "      <td>0.000253</td>\n",
       "      <td>0.000252</td>\n",
       "      <td>2.451097e+10</td>\n",
       "    </tr>\n",
       "    <tr>\n",
       "      <th>8</th>\n",
       "      <td>2.921218e+07</td>\n",
       "      <td>-4.273206e+10</td>\n",
       "      <td>4.279049e+10</td>\n",
       "      <td>2.181735e+10</td>\n",
       "      <td>0.000216</td>\n",
       "      <td>0.000216</td>\n",
       "      <td>0.000216</td>\n",
       "      <td>2.181735e+10</td>\n",
       "    </tr>\n",
       "    <tr>\n",
       "      <th>9</th>\n",
       "      <td>2.498348e+07</td>\n",
       "      <td>-1.845565e+10</td>\n",
       "      <td>1.850562e+10</td>\n",
       "      <td>9.429058e+09</td>\n",
       "      <td>0.000090</td>\n",
       "      <td>0.000090</td>\n",
       "      <td>0.000090</td>\n",
       "      <td>9.429058e+09</td>\n",
       "    </tr>\n",
       "  </tbody>\n",
       "</table>\n",
       "</div>"
      ],
      "text/plain": [
       "           coef          CI_L          CI_U          bse0      bse1      bse2  \\\n",
       "0  4.506733e+06 -3.081435e+09  3.090449e+09  1.574487e+09  0.000012  0.000012   \n",
       "1 -1.610010e+11 -2.610642e+11 -6.093789e+10  5.105350e+10  0.000271  0.000271   \n",
       "2 -2.909637e+07 -6.101393e+10  6.095574e+10  3.111525e+10  0.000076  0.000076   \n",
       "3  9.988702e+06 -4.505592e+10  4.507590e+10  2.299321e+10  0.000190  0.000190   \n",
       "4 -1.384082e+06 -2.950196e+09  2.947428e+09  1.504522e+09  0.000017  0.000017   \n",
       "5  2.589995e+07 -5.309740e+10  5.314920e+10  2.710419e+10  0.000285  0.000285   \n",
       "6  2.643272e+07 -4.151198e+10  4.156485e+10  2.119343e+10  0.000239  0.000239   \n",
       "7 -1.156945e+06 -4.804183e+10  4.803951e+10  2.451097e+10  0.000253  0.000253   \n",
       "8  2.921218e+07 -4.273206e+10  4.279049e+10  2.181735e+10  0.000216  0.000216   \n",
       "9  2.498348e+07 -1.845565e+10  1.850562e+10  9.429058e+09  0.000090  0.000090   \n",
       "\n",
       "       bse3          bse4  \n",
       "0  0.000012  1.574487e+09  \n",
       "1  0.000271  5.105350e+10  \n",
       "2  0.000076  3.111525e+10  \n",
       "3  0.000190  2.299321e+10  \n",
       "4  0.000017  1.504522e+09  \n",
       "5  0.000285  2.710419e+10  \n",
       "6  0.000239  2.119343e+10  \n",
       "7  0.000252  2.451097e+10  \n",
       "8  0.000216  2.181735e+10  \n",
       "9  0.000090  9.429058e+09  "
      ]
     },
     "execution_count": 83,
     "metadata": {},
     "output_type": "execute_result"
    }
   ],
   "source": [
    "resultsdf"
   ]
  },
  {
   "cell_type": "code",
   "execution_count": 84,
   "id": "bec1c09a",
   "metadata": {},
   "outputs": [
    {
     "data": {
      "text/plain": [
       "<matplotlib.lines.Line2D at 0x7faea2d2d5c0>"
      ]
     },
     "execution_count": 84,
     "metadata": {},
     "output_type": "execute_result"
    },
    {
     "data": {
      "image/png": "[encoded data removed]",
      "text/plain": [
       "<Figure size 432x288 with 1 Axes>"
      ]
     },
     "metadata": {
      "needs_background": "light"
     },
     "output_type": "display_data"
    }
   ],
   "source": [
    "sns.kdeplot(resultsdf.coef)\n",
    "plt.axvline(resultsdf.coef.mean())\n",
    "plt.axvline(trt_effect, color = 'r', linestyle='--')"
   ]
  },
  {
   "cell_type": "markdown",
   "id": "25b4dd28",
   "metadata": {},
   "source": [
    "## Even more collinearity"
   ]
  },
  {
   "cell_type": "code",
   "execution_count": 118,
   "id": "0c4c60fb",
   "metadata": {},
   "outputs": [],
   "source": [
    "def gen_features_doublefeats(n_samples,n_features, trt_effect,treatment_prob, distribution, noise,seed):\n",
    "    \"\"\"\n",
    "    generates complete duplicate features and weights of X features\n",
    "    \"\"\"\n",
    "    if distribution == 'gaussian':\n",
    "        x = np.random.randn(n_samples, n_features)\n",
    "        #create identical features\n",
    "        X = np.repeat(x,2, axis = 1)\n",
    "        D =  bernoulli.rvs(p = treatment_prob,size=n_samples) # treatment var\n",
    "        dx = np.column_stack((D,X))\n",
    "        weights = np.append(trt_effect,stats.norm.rvs(0, 1, size = n_features))\n",
    "        weights = np.append(weights,weights[1:])\n",
    "        Y = np.dot(dx,weights.T) + np.random.rand()\n",
    "        if noise >0.0:\n",
    "            Y += stats.norm.rvs(loc = 0, scale=noise,size=Y.shape)     \n",
    "    \n",
    "    elif distribution == 'bernoulli':\n",
    "        # generate X features\n",
    "        p_vec = np.random.uniform(size = int(n_features/2))\n",
    "        x = stats.bernoulli.rvs(p = p_vec, size = [n_samples,int(n_features/2)])\n",
    "        X = np.repeat(x,2, axis = 1)\n",
    "        \n",
    "        #add the treatment var into X data        \n",
    "        D = bernoulli.rvs(p = treatment_prob,size=n_samples) # treatment var\n",
    "        dx = np.column_stack((D,X))\n",
    "        #generate weights\n",
    "        weights = np.append(trt_effect,stats.norm.rvs(0, 1, size = int(n_features/2)))\n",
    "        weights = np.append(weights,weights[1:])\n",
    "        Y = np.dot(dx,weights.T) + np.random.rand()\n",
    "        #implement noise for bernoulli with noise = p(flip bit)\n",
    "        if noise >0.0:\n",
    "            #Y_multiplier = [-1 if random.random() < noise else 1 for i in Y]\n",
    "            #Y = Y * Y_multiplier\n",
    "            Y += stats.norm.rvs(loc = 0, scale=noise,size=Y.shape)  \n",
    "            \n",
    "    else:\n",
    "        print(\"Not a valid distribution\")\n",
    "    \n",
    "    return X,dx,weights, Y, D"
   ]
  },
  {
   "cell_type": "code",
   "execution_count": 121,
   "id": "cc2b5046",
   "metadata": {},
   "outputs": [],
   "source": [
    "n_samples = 1000000\n",
    "n_features = 4\n",
    "treatment_prob = 0.9\n",
    "trt_effect = 0.5\n",
    "\n",
    "resultsdf = pd.DataFrame()\n",
    "\n",
    "for i in range(10):\n",
    "    X,dx,weights, Y, D = gen_features_doublefeats(n_samples,n_features, trt_effect,treatment_prob, 'gaussian', 0,123)\n",
    "    model = sm.OLS(Y, dx)\n",
    "    results = model.fit()\n",
    "    temp_df = pd.DataFrame({'coef': results.params[0],'CI_L':results.conf_int()[0][0],'CI_U':results.conf_int()[0][1],'bse0': results.bse[0], 'bse1': results.bse[1],'bse2':results.bse[2],'bse3':results.bse[3],'bse4':results.bse[4]}, index = [i])\n",
    "    resultsdf = resultsdf.append(temp_df)"
   ]
  },
  {
   "cell_type": "code",
   "execution_count": 125,
   "id": "a10e2d58",
   "metadata": {},
   "outputs": [
    {
     "data": {
      "text/plain": [
       "Text(0.5, 1.0, 'Gaussian 1M samples, 8 features (4 duplicated) ')"
      ]
     },
     "execution_count": 125,
     "metadata": {},
     "output_type": "execute_result"
    },
    {
     "data": {
      "image/png": "[encoded data removed]",
      "text/plain": [
       "<Figure size 432x288 with 1 Axes>"
      ]
     },
     "metadata": {
      "needs_background": "light"
     },
     "output_type": "display_data"
    }
   ],
   "source": [
    "sns.kdeplot(resultsdf.coef)\n",
    "plt.axvline(resultsdf.coef.mean())\n",
    "plt.axvline(trt_effect, color = 'r', linestyle='--')\n",
    "plt.title(\"Gaussian 1M samples, 8 features (4 duplicated) \")"
   ]
  },
  {
   "cell_type": "code",
   "execution_count": 127,
   "id": "383e1385",
   "metadata": {},
   "outputs": [],
   "source": [
    "resultsdf = pd.DataFrame()\n",
    "\n",
    "for i in range(10):\n",
    "    X,dx,weights, Y, D = gen_features_doublefeats(n_samples,n_features, trt_effect,treatment_prob, 'bernoulli', 0,123)\n",
    "    model = sm.OLS(Y, dx)\n",
    "    results = model.fit()\n",
    "    temp_df = pd.DataFrame({'coef': results.params[0],'CI_L':results.conf_int()[0][0],'CI_U':results.conf_int()[0][1],'bse0': results.bse[0], 'bse1': results.bse[1],'bse2':results.bse[2],'bse3':results.bse[3],'bse4':results.bse[4]}, index = [i])\n",
    "    resultsdf = resultsdf.append(temp_df)"
   ]
  },
  {
   "cell_type": "code",
   "execution_count": 128,
   "id": "4fb3b6a2",
   "metadata": {},
   "outputs": [
    {
     "data": {
      "text/plain": [
       "Text(0.5, 1.0, 'Bernoulli 1M samples, 8 features (4 duplicated) ')"
      ]
     },
     "execution_count": 128,
     "metadata": {},
     "output_type": "execute_result"
    },
    {
     "data": {
      "image/png": "[encoded data removed]",
      "text/plain": [
       "<Figure size 432x288 with 1 Axes>"
      ]
     },
     "metadata": {
      "needs_background": "light"
     },
     "output_type": "display_data"
    }
   ],
   "source": [
    "sns.kdeplot(resultsdf.coef)\n",
    "plt.axvline(resultsdf.coef.mean())\n",
    "plt.axvline(trt_effect, color = 'r', linestyle='--')\n",
    "plt.title(\"Bernoulli 1M samples, 8 features (4 duplicated) \")"
   ]
  },
  {
   "cell_type": "code",
   "execution_count": null,
   "id": "6309c22c",
   "metadata": {},
   "outputs": [],
   "source": []
  }
 ],
 "metadata": {
  "kernelspec": {
   "display_name": "conda_python3",
   "language": "python",
   "name": "conda_python3"
  },
  "language_info": {
   "codemirror_mode": {
    "name": "ipython",
    "version": 3
   },
   "file_extension": ".py",
   "mimetype": "text/x-python",
   "name": "python",
   "nbconvert_exporter": "python",
   "pygments_lexer": "ipython3",
   "version": "3.6.13"
  }
 },
 "nbformat": 4,
 "nbformat_minor": 5
}
